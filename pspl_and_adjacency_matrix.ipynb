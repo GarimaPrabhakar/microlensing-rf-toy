{
 "cells": [
  {
   "cell_type": "code",
   "execution_count": 438,
   "id": "777709a8-53f1-4817-8a88-0f1a9ab670b4",
   "metadata": {
    "tags": []
   },
   "outputs": [],
   "source": [
    "import numpy as np\n",
    "import os\n",
    "import pandas as pd\n",
    "from matplotlib import pyplot as plt"
   ]
  },
  {
   "cell_type": "code",
   "execution_count": 437,
   "id": "aae34107-bbe1-45dc-84b8-7f0845243f93",
   "metadata": {
    "tags": []
   },
   "outputs": [],
   "source": [
    "def getam(numbins, f, x):\n",
    "    # numbins = 4\n",
    "    numbins = numbins + 1\n",
    "    bins = np.linspace(min(f), max(f)+0.001, numbins)\n",
    "    am = np.zeros((numbins, numbins))\n",
    "    distm = np.zeros((numbins, numbins))\n",
    "    countm = np.zeros((numbins, numbins))\n",
    "    for counti, i in enumerate(f[:]):\n",
    "        ibin = np.where(bins>i)[0][0]\n",
    "        for countj, j in enumerate(f[counti:]):\n",
    "            if counti==countj:\n",
    "                continue\n",
    "            jbin = np.where(bins>j)[0][0]\n",
    "            countm[ibin-1, jbin-1] += 1\n",
    "            distm[ibin-1, jbin-1] += abs(x[counti] - x[countj])\n",
    "            am[ibin-1, jbin-1] += 1/abs(x[counti] - x[countj])\n",
    "\n",
    "    return countm[:-1,:-1], distm[:-1,:-1], am[:-1,:-1]"
   ]
  },
  {
   "cell_type": "code",
   "execution_count": 422,
   "id": "1c0ff968-dda1-44e8-b23d-e449bec1013e",
   "metadata": {
    "tags": []
   },
   "outputs": [
    {
     "data": {
      "text/plain": [
       "'../Crowdsource copy/crowdsource/crowdsource/csdata/data1/DC22eokxf_crowdsource_rs.csv'"
      ]
     },
     "execution_count": 422,
     "metadata": {},
     "output_type": "execute_result"
    }
   ],
   "source": [
    "numbins = 7\n",
    "\n",
    "datas = os.listdir(\"../Crowdsource copy/crowdsource/crowdsource/csdata/data1\")\n",
    "dir_data = \"../Crowdsource copy/crowdsource/crowdsource/csdata/data1/\"+datas[200]\n",
    "dir_data = '../Crowdsource copy/crowdsource/crowdsource/csdata/data1/DC22eokxf_crowdsource_rs.csv'\n",
    "\n",
    "\n",
    "\n",
    "dir_data"
   ]
  },
  {
   "cell_type": "code",
   "execution_count": 423,
   "id": "25c1f7ec-1b2a-46a0-8a91-604132b08756",
   "metadata": {
    "tags": []
   },
   "outputs": [],
   "source": [
    "df = pd.read_csv(dir_data)\n",
    "df.columns = ['index', 'x', 'y', 'flux', 'deltx', 'delty', 'chi2_', 'dx', 'dy',\n",
    "       'dflux', 'qf', 'rchi2', 'fracflux', 'fluxlbs', 'dfluxlbs', 'fwhm',\n",
    "       'spread_model', 'dspread_model', 'fluxiso', 'xiso', 'yiso', 'sky',\n",
    "       'BADIM FLAG', 'BADFIT FLAG', 'FAILED FIT', 'FIT CHI2',\n",
    "       'APERTURE RADIUS', 'QUALITY FLAG', 'STDEV FLAG', 'RELERR FLAG',\n",
    "       'ref_fn', 'forced_fn', 'fn_index', 's', 'seeing', 'magzp', 'band',\n",
    "       'candidate_id', 'MJD', 'resim_']"
   ]
  },
  {
   "cell_type": "code",
   "execution_count": 424,
   "id": "fb3e7d73-88e5-48d2-9ee6-0dd0e90f97c6",
   "metadata": {
    "tags": []
   },
   "outputs": [],
   "source": [
    "df = df.iloc[np.where(df.band==\"g\")]\n",
    "df = df.iloc[np.where((df[\"QUALITY FLAG\"]>3))]\n",
    "df = df.iloc[np.where((df[\"QUALITY FLAG\"]<6))]\n",
    "df = df.iloc[np.where((df[\"RELERR FLAG\"]==0))]\n",
    "df = df.iloc[np.where((df[\"chi2_\"]<120))]\n",
    "df = df.iloc[np.where((df[\"magzp\"]!=0))]\n",
    "df = df.iloc[np.where((df[\"seeing\"]!=0))]\n",
    "#df = df.iloc[np.where(((df[\"flux\"]/df[\"dflux\"])<0.2))]\n",
    "# dfn = dfn.iloc[np.where((dfn[\"seeing\"]>1))]\n",
    "df[\"normflux\"] = df[\"flux\"]*(10**((df[\"magzp\"]-29)/2.5))\n",
    "df[\"dnormflux\"] = df[\"dflux\"]*(10**((df[\"magzp\"]-29)/2.5))\n",
    "df = df.iloc[np.where((df[\"dnormflux\"]/df[\"normflux\"])<0.2)]\n",
    "df = df.sort_values(\"MJD\")\n",
    "df = df.reset_index()"
   ]
  },
  {
   "cell_type": "code",
   "execution_count": 425,
   "id": "57495a79-3ddd-494f-bd11-034ed40380d1",
   "metadata": {
    "scrolled": true,
    "tags": []
   },
   "outputs": [
    {
     "data": {
      "text/html": [
       "<div>\n",
       "<style scoped>\n",
       "    .dataframe tbody tr th:only-of-type {\n",
       "        vertical-align: middle;\n",
       "    }\n",
       "\n",
       "    .dataframe tbody tr th {\n",
       "        vertical-align: top;\n",
       "    }\n",
       "\n",
       "    .dataframe thead th {\n",
       "        text-align: right;\n",
       "    }\n",
       "</style>\n",
       "<table border=\"1\" class=\"dataframe\">\n",
       "  <thead>\n",
       "    <tr style=\"text-align: right;\">\n",
       "      <th></th>\n",
       "      <th>level_0</th>\n",
       "      <th>index</th>\n",
       "      <th>x</th>\n",
       "      <th>y</th>\n",
       "      <th>flux</th>\n",
       "      <th>deltx</th>\n",
       "      <th>delty</th>\n",
       "      <th>chi2_</th>\n",
       "      <th>dx</th>\n",
       "      <th>dy</th>\n",
       "      <th>...</th>\n",
       "      <th>fn_index</th>\n",
       "      <th>s</th>\n",
       "      <th>seeing</th>\n",
       "      <th>magzp</th>\n",
       "      <th>band</th>\n",
       "      <th>candidate_id</th>\n",
       "      <th>MJD</th>\n",
       "      <th>resim_</th>\n",
       "      <th>normflux</th>\n",
       "      <th>dnormflux</th>\n",
       "    </tr>\n",
       "  </thead>\n",
       "  <tbody>\n",
       "    <tr>\n",
       "      <th>0</th>\n",
       "      <td>284</td>\n",
       "      <td>0</td>\n",
       "      <td>16.702758</td>\n",
       "      <td>15.522884</td>\n",
       "      <td>7750.015137</td>\n",
       "      <td>-0.138246</td>\n",
       "      <td>-0.106884</td>\n",
       "      <td>33.202772</td>\n",
       "      <td>0.407668</td>\n",
       "      <td>0.403148</td>\n",
       "      <td>...</td>\n",
       "      <td>302</td>\n",
       "      <td>15</td>\n",
       "      <td>1.286780</td>\n",
       "      <td>29.643635</td>\n",
       "      <td>g</td>\n",
       "      <td>DC22eokxf</td>\n",
       "      <td>59295.384410</td>\n",
       "      <td>[[-1.72849350e+01  1.91598282e+01 -1.39714050e...</td>\n",
       "      <td>14020.277478</td>\n",
       "      <td>2462.368698</td>\n",
       "    </tr>\n",
       "    <tr>\n",
       "      <th>1</th>\n",
       "      <td>269</td>\n",
       "      <td>0</td>\n",
       "      <td>15.866967</td>\n",
       "      <td>15.129282</td>\n",
       "      <td>8541.306641</td>\n",
       "      <td>-0.172963</td>\n",
       "      <td>-0.102182</td>\n",
       "      <td>31.103775</td>\n",
       "      <td>0.377937</td>\n",
       "      <td>0.366677</td>\n",
       "      <td>...</td>\n",
       "      <td>287</td>\n",
       "      <td>15</td>\n",
       "      <td>1.202713</td>\n",
       "      <td>29.639124</td>\n",
       "      <td>g</td>\n",
       "      <td>DC22eokxf</td>\n",
       "      <td>59295.388149</td>\n",
       "      <td>[[-8.05695343e+00  2.54960785e+01 -3.21421814e...</td>\n",
       "      <td>15387.710278</td>\n",
       "      <td>2511.331569</td>\n",
       "    </tr>\n",
       "    <tr>\n",
       "      <th>2</th>\n",
       "      <td>279</td>\n",
       "      <td>0</td>\n",
       "      <td>16.698566</td>\n",
       "      <td>15.508478</td>\n",
       "      <td>9198.387695</td>\n",
       "      <td>-0.148958</td>\n",
       "      <td>-0.101992</td>\n",
       "      <td>42.425596</td>\n",
       "      <td>0.351772</td>\n",
       "      <td>0.345523</td>\n",
       "      <td>...</td>\n",
       "      <td>297</td>\n",
       "      <td>15</td>\n",
       "      <td>1.179602</td>\n",
       "      <td>29.637720</td>\n",
       "      <td>g</td>\n",
       "      <td>DC22eokxf</td>\n",
       "      <td>59295.391910</td>\n",
       "      <td>[[-1.04088211e+01  1.11433411e+01 -4.35919952e...</td>\n",
       "      <td>16550.057765</td>\n",
       "      <td>2534.345862</td>\n",
       "    </tr>\n",
       "    <tr>\n",
       "      <th>3</th>\n",
       "      <td>282</td>\n",
       "      <td>0</td>\n",
       "      <td>16.899334</td>\n",
       "      <td>15.764242</td>\n",
       "      <td>7276.283691</td>\n",
       "      <td>-0.146977</td>\n",
       "      <td>-0.099910</td>\n",
       "      <td>31.438759</td>\n",
       "      <td>0.443918</td>\n",
       "      <td>0.433962</td>\n",
       "      <td>...</td>\n",
       "      <td>300</td>\n",
       "      <td>15</td>\n",
       "      <td>1.331029</td>\n",
       "      <td>29.642897</td>\n",
       "      <td>g</td>\n",
       "      <td>DC22eokxf</td>\n",
       "      <td>59295.397104</td>\n",
       "      <td>[[-1.93878937e+00  9.48197937e+00  4.38304901e...</td>\n",
       "      <td>13154.322020</td>\n",
       "      <td>2461.625427</td>\n",
       "    </tr>\n",
       "    <tr>\n",
       "      <th>4</th>\n",
       "      <td>281</td>\n",
       "      <td>0</td>\n",
       "      <td>16.636170</td>\n",
       "      <td>15.686310</td>\n",
       "      <td>8161.482910</td>\n",
       "      <td>-0.160474</td>\n",
       "      <td>-0.115821</td>\n",
       "      <td>55.668492</td>\n",
       "      <td>0.408855</td>\n",
       "      <td>0.405966</td>\n",
       "      <td>...</td>\n",
       "      <td>299</td>\n",
       "      <td>15</td>\n",
       "      <td>1.282140</td>\n",
       "      <td>29.642246</td>\n",
       "      <td>g</td>\n",
       "      <td>DC22eokxf</td>\n",
       "      <td>59295.400819</td>\n",
       "      <td>[[-1.44699402e+01  7.01345062e+00  6.84712982e...</td>\n",
       "      <td>14745.774394</td>\n",
       "      <td>2577.560895</td>\n",
       "    </tr>\n",
       "    <tr>\n",
       "      <th>...</th>\n",
       "      <td>...</td>\n",
       "      <td>...</td>\n",
       "      <td>...</td>\n",
       "      <td>...</td>\n",
       "      <td>...</td>\n",
       "      <td>...</td>\n",
       "      <td>...</td>\n",
       "      <td>...</td>\n",
       "      <td>...</td>\n",
       "      <td>...</td>\n",
       "      <td>...</td>\n",
       "      <td>...</td>\n",
       "      <td>...</td>\n",
       "      <td>...</td>\n",
       "      <td>...</td>\n",
       "      <td>...</td>\n",
       "      <td>...</td>\n",
       "      <td>...</td>\n",
       "      <td>...</td>\n",
       "      <td>...</td>\n",
       "      <td>...</td>\n",
       "    </tr>\n",
       "    <tr>\n",
       "      <th>58</th>\n",
       "      <td>16</td>\n",
       "      <td>0</td>\n",
       "      <td>16.072450</td>\n",
       "      <td>15.065553</td>\n",
       "      <td>8711.168945</td>\n",
       "      <td>-0.171267</td>\n",
       "      <td>-0.118816</td>\n",
       "      <td>46.636224</td>\n",
       "      <td>0.368328</td>\n",
       "      <td>0.355780</td>\n",
       "      <td>...</td>\n",
       "      <td>17</td>\n",
       "      <td>15</td>\n",
       "      <td>1.149289</td>\n",
       "      <td>29.664277</td>\n",
       "      <td>g</td>\n",
       "      <td>DC22eokxf</td>\n",
       "      <td>59739.303483</td>\n",
       "      <td>[[-1.86451721e+00  1.08196106e+01 -7.00008392e...</td>\n",
       "      <td>16061.540950</td>\n",
       "      <td>2563.138885</td>\n",
       "    </tr>\n",
       "    <tr>\n",
       "      <th>59</th>\n",
       "      <td>39</td>\n",
       "      <td>0</td>\n",
       "      <td>16.504157</td>\n",
       "      <td>15.997713</td>\n",
       "      <td>7675.234863</td>\n",
       "      <td>-0.138864</td>\n",
       "      <td>-0.096327</td>\n",
       "      <td>33.126981</td>\n",
       "      <td>0.407702</td>\n",
       "      <td>0.409221</td>\n",
       "      <td>...</td>\n",
       "      <td>40</td>\n",
       "      <td>15</td>\n",
       "      <td>1.298733</td>\n",
       "      <td>29.677761</td>\n",
       "      <td>g</td>\n",
       "      <td>DC22eokxf</td>\n",
       "      <td>59764.181328</td>\n",
       "      <td>[[-1.81473541e+01  1.88532562e+01  1.32248688e...</td>\n",
       "      <td>14328.349092</td>\n",
       "      <td>2529.737312</td>\n",
       "    </tr>\n",
       "    <tr>\n",
       "      <th>60</th>\n",
       "      <td>35</td>\n",
       "      <td>0</td>\n",
       "      <td>16.206051</td>\n",
       "      <td>15.076862</td>\n",
       "      <td>8617.985352</td>\n",
       "      <td>-0.143747</td>\n",
       "      <td>-0.086272</td>\n",
       "      <td>38.093769</td>\n",
       "      <td>0.375840</td>\n",
       "      <td>0.369374</td>\n",
       "      <td>...</td>\n",
       "      <td>36</td>\n",
       "      <td>15</td>\n",
       "      <td>1.212041</td>\n",
       "      <td>29.660837</td>\n",
       "      <td>g</td>\n",
       "      <td>DC22eokxf</td>\n",
       "      <td>59764.185229</td>\n",
       "      <td>[[-2.11292343e+01 -3.53083801e+00  2.20123825e...</td>\n",
       "      <td>15839.467086</td>\n",
       "      <td>2579.094069</td>\n",
       "    </tr>\n",
       "    <tr>\n",
       "      <th>61</th>\n",
       "      <td>34</td>\n",
       "      <td>0</td>\n",
       "      <td>16.201482</td>\n",
       "      <td>15.469207</td>\n",
       "      <td>9310.273438</td>\n",
       "      <td>-0.151873</td>\n",
       "      <td>-0.077176</td>\n",
       "      <td>43.184339</td>\n",
       "      <td>0.347596</td>\n",
       "      <td>0.336010</td>\n",
       "      <td>...</td>\n",
       "      <td>35</td>\n",
       "      <td>15</td>\n",
       "      <td>1.161323</td>\n",
       "      <td>29.673583</td>\n",
       "      <td>g</td>\n",
       "      <td>DC22eokxf</td>\n",
       "      <td>59764.188950</td>\n",
       "      <td>[[-4.78656082e+01  1.13489380e+01  2.46657410e...</td>\n",
       "      <td>17313.924568</td>\n",
       "      <td>2618.840464</td>\n",
       "    </tr>\n",
       "    <tr>\n",
       "      <th>62</th>\n",
       "      <td>8</td>\n",
       "      <td>0</td>\n",
       "      <td>16.596041</td>\n",
       "      <td>15.876938</td>\n",
       "      <td>10076.452148</td>\n",
       "      <td>-0.227803</td>\n",
       "      <td>-0.154276</td>\n",
       "      <td>65.403061</td>\n",
       "      <td>0.306021</td>\n",
       "      <td>0.296357</td>\n",
       "      <td>...</td>\n",
       "      <td>9</td>\n",
       "      <td>15</td>\n",
       "      <td>0.993399</td>\n",
       "      <td>29.608408</td>\n",
       "      <td>g</td>\n",
       "      <td>DC22eokxf</td>\n",
       "      <td>59812.048295</td>\n",
       "      <td>[[-4.53753357e+01 -2.71508255e+01  2.05693817e...</td>\n",
       "      <td>17646.994335</td>\n",
       "      <td>2437.538951</td>\n",
       "    </tr>\n",
       "  </tbody>\n",
       "</table>\n",
       "<p>63 rows × 43 columns</p>\n",
       "</div>"
      ],
      "text/plain": [
       "    level_0  index          x          y          flux     deltx     delty  \\\n",
       "0       284      0  16.702758  15.522884   7750.015137 -0.138246 -0.106884   \n",
       "1       269      0  15.866967  15.129282   8541.306641 -0.172963 -0.102182   \n",
       "2       279      0  16.698566  15.508478   9198.387695 -0.148958 -0.101992   \n",
       "3       282      0  16.899334  15.764242   7276.283691 -0.146977 -0.099910   \n",
       "4       281      0  16.636170  15.686310   8161.482910 -0.160474 -0.115821   \n",
       "..      ...    ...        ...        ...           ...       ...       ...   \n",
       "58       16      0  16.072450  15.065553   8711.168945 -0.171267 -0.118816   \n",
       "59       39      0  16.504157  15.997713   7675.234863 -0.138864 -0.096327   \n",
       "60       35      0  16.206051  15.076862   8617.985352 -0.143747 -0.086272   \n",
       "61       34      0  16.201482  15.469207   9310.273438 -0.151873 -0.077176   \n",
       "62        8      0  16.596041  15.876938  10076.452148 -0.227803 -0.154276   \n",
       "\n",
       "        chi2_        dx        dy  ...  fn_index   s    seeing      magzp  \\\n",
       "0   33.202772  0.407668  0.403148  ...       302  15  1.286780  29.643635   \n",
       "1   31.103775  0.377937  0.366677  ...       287  15  1.202713  29.639124   \n",
       "2   42.425596  0.351772  0.345523  ...       297  15  1.179602  29.637720   \n",
       "3   31.438759  0.443918  0.433962  ...       300  15  1.331029  29.642897   \n",
       "4   55.668492  0.408855  0.405966  ...       299  15  1.282140  29.642246   \n",
       "..        ...       ...       ...  ...       ...  ..       ...        ...   \n",
       "58  46.636224  0.368328  0.355780  ...        17  15  1.149289  29.664277   \n",
       "59  33.126981  0.407702  0.409221  ...        40  15  1.298733  29.677761   \n",
       "60  38.093769  0.375840  0.369374  ...        36  15  1.212041  29.660837   \n",
       "61  43.184339  0.347596  0.336010  ...        35  15  1.161323  29.673583   \n",
       "62  65.403061  0.306021  0.296357  ...         9  15  0.993399  29.608408   \n",
       "\n",
       "    band  candidate_id           MJD  \\\n",
       "0      g     DC22eokxf  59295.384410   \n",
       "1      g     DC22eokxf  59295.388149   \n",
       "2      g     DC22eokxf  59295.391910   \n",
       "3      g     DC22eokxf  59295.397104   \n",
       "4      g     DC22eokxf  59295.400819   \n",
       "..   ...           ...           ...   \n",
       "58     g     DC22eokxf  59739.303483   \n",
       "59     g     DC22eokxf  59764.181328   \n",
       "60     g     DC22eokxf  59764.185229   \n",
       "61     g     DC22eokxf  59764.188950   \n",
       "62     g     DC22eokxf  59812.048295   \n",
       "\n",
       "                                               resim_      normflux  \\\n",
       "0   [[-1.72849350e+01  1.91598282e+01 -1.39714050e...  14020.277478   \n",
       "1   [[-8.05695343e+00  2.54960785e+01 -3.21421814e...  15387.710278   \n",
       "2   [[-1.04088211e+01  1.11433411e+01 -4.35919952e...  16550.057765   \n",
       "3   [[-1.93878937e+00  9.48197937e+00  4.38304901e...  13154.322020   \n",
       "4   [[-1.44699402e+01  7.01345062e+00  6.84712982e...  14745.774394   \n",
       "..                                                ...           ...   \n",
       "58  [[-1.86451721e+00  1.08196106e+01 -7.00008392e...  16061.540950   \n",
       "59  [[-1.81473541e+01  1.88532562e+01  1.32248688e...  14328.349092   \n",
       "60  [[-2.11292343e+01 -3.53083801e+00  2.20123825e...  15839.467086   \n",
       "61  [[-4.78656082e+01  1.13489380e+01  2.46657410e...  17313.924568   \n",
       "62  [[-4.53753357e+01 -2.71508255e+01  2.05693817e...  17646.994335   \n",
       "\n",
       "      dnormflux  \n",
       "0   2462.368698  \n",
       "1   2511.331569  \n",
       "2   2534.345862  \n",
       "3   2461.625427  \n",
       "4   2577.560895  \n",
       "..          ...  \n",
       "58  2563.138885  \n",
       "59  2529.737312  \n",
       "60  2579.094069  \n",
       "61  2618.840464  \n",
       "62  2437.538951  \n",
       "\n",
       "[63 rows x 43 columns]"
      ]
     },
     "execution_count": 425,
     "metadata": {},
     "output_type": "execute_result"
    }
   ],
   "source": [
    "df"
   ]
  },
  {
   "cell_type": "code",
   "execution_count": 426,
   "id": "1103bdf4-cdb2-4924-b6de-e23ad078d9d3",
   "metadata": {
    "tags": []
   },
   "outputs": [],
   "source": [
    "def pspl_model(mjd, f, u0, tE, t0):\n",
    "    x = mjd\n",
    "    t = x - np.min(x) - (np.max(x) - np.min(x))/2 # reformat the time to have the middle at 0\n",
    "    u = (u0**2 + ((t - t0)/tE)**2)**0.5 # find u(t)\n",
    "    A = (u + 2)/(u*(u**2 + 4)**0.5) # find A(t)\n",
    "    \n",
    "    return mjd, A*f, A"
   ]
  },
  {
   "cell_type": "code",
   "execution_count": 427,
   "id": "abf22e08-78f6-4761-965f-23de2366b81f",
   "metadata": {},
   "outputs": [
    {
     "data": {
      "text/plain": [
       "Text(0.5, 1.0, 'Raw Light Curve')"
      ]
     },
     "execution_count": 427,
     "metadata": {},
     "output_type": "execute_result"
    },
    {
     "data": {
      "image/png": "[encoded data removed]",
      "text/plain": [
       "<Figure size 432x288 with 1 Axes>"
      ]
     },
     "metadata": {
      "needs_background": "light"
     },
     "output_type": "display_data"
    }
   ],
   "source": [
    "myt = df[\"MJD\"]\n",
    "myf = df[\"normflux\"]/np.median(df[\"normflux\"])\n",
    "plt.scatter(myt, myf)\n",
    "plt.xlabel(\"MJD\")\n",
    "plt.ylabel(\"Normalized Flux\")\n",
    "plt.title(\"Raw Light Curve\")"
   ]
  },
  {
   "cell_type": "code",
   "execution_count": 428,
   "id": "a8d16ec3-133d-4a58-a519-1a158f35eeed",
   "metadata": {
    "tags": []
   },
   "outputs": [
    {
     "name": "stderr",
     "output_type": "stream",
     "text": [
      "/tmp/ipykernel_602105/912084953.py:2: RuntimeWarning: divide by zero encountered in log\n",
      "  plt.imshow(np.log(am_not_ml))\n"
     ]
    },
    {
     "data": {
      "text/plain": [
       "Text(0.5, 1.0, 'Natural Log Adjacency Matrix for Raw Light Curve')"
      ]
     },
     "execution_count": 428,
     "metadata": {},
     "output_type": "execute_result"
    },
    {
     "data": {
      "image/png": "[encoded data removed]",
      "text/plain": [
       "<Figure size 432x288 with 2 Axes>"
      ]
     },
     "metadata": {
      "needs_background": "light"
     },
     "output_type": "display_data"
    }
   ],
   "source": [
    "_, _, am_not_ml = getam(numbins, df[\"normflux\"], df[\"MJD\"])\n",
    "plt.imshow(np.log(am_not_ml))\n",
    "plt.colorbar()\n",
    "plt.title(\"Natural Log Adjacency Matrix for Raw Light Curve\")\n",
    "#plt.title(\"Natural Log of Adjacency Matrix (values far apart)\")"
   ]
  },
  {
   "cell_type": "code",
   "execution_count": 429,
   "id": "d5c04d56-4a56-44d4-b2c1-aa219695caf2",
   "metadata": {
    "tags": []
   },
   "outputs": [],
   "source": [
    "u0 = round(np.random.uniform(0.1, 1), 2)\n",
    "tE = round(np.random.uniform(5, 100))\n",
    "t0 = 0\n",
    "\n",
    "u0 = 0.2\n",
    "tE = 12\n",
    "\n",
    "myt, myf, _ = pspl_model(df[\"MJD\"], df[\"normflux\"], u0, tE, t0)"
   ]
  },
  {
   "cell_type": "code",
   "execution_count": 430,
   "id": "d1bc365c-de70-4c78-a8c8-82e1097cc570",
   "metadata": {
    "tags": []
   },
   "outputs": [
    {
     "data": {
      "image/png": "[encoded data removed]",
      "text/plain": [
       "<Figure size 432x288 with 1 Axes>"
      ]
     },
     "metadata": {
      "needs_background": "light"
     },
     "output_type": "display_data"
    }
   ],
   "source": [
    "A = myf/np.median(myf)\n",
    "plt.scatter(df[\"MJD\"], A, label=\"Injected LC\")\n",
    "\n",
    "plt.title(f\"Injected Microlensing Event\\nu0 = {u0}, tE={tE}, t0 = {t0}\")\n",
    "plt.xlabel(\"MJD\")\n",
    "plt.ylabel(\"Normalized Flux\")\n",
    "plt.plot(df[\"MJD\"], df[\"normflux\"]/np.median(df[\"normflux\"]), \"k.\", label=\"Original LC\")\n",
    "plt.legend()\n",
    "plt.show()"
   ]
  },
  {
   "cell_type": "code",
   "execution_count": 431,
   "id": "aa48f3db-66b9-4936-b044-53da1a3e3ef2",
   "metadata": {
    "tags": []
   },
   "outputs": [
    {
     "data": {
      "text/plain": [
       "1.0"
      ]
     },
     "execution_count": 431,
     "metadata": {},
     "output_type": "execute_result"
    }
   ],
   "source": [
    "np.median(A)"
   ]
  },
  {
   "cell_type": "code",
   "execution_count": 432,
   "id": "1a281f22-6d8e-4240-b747-c930f3ec52be",
   "metadata": {
    "tags": []
   },
   "outputs": [
    {
     "data": {
      "text/plain": [
       "Text(0.5, 1.0, 'Microlensing Model')"
      ]
     },
     "execution_count": 432,
     "metadata": {},
     "output_type": "execute_result"
    },
    {
     "data": {
      "image/png": "[encoded data removed]",
      "text/plain": [
       "<Figure size 432x288 with 1 Axes>"
      ]
     },
     "metadata": {
      "needs_background": "light"
     },
     "output_type": "display_data"
    }
   ],
   "source": [
    "plt.plot(myt, _/np.min(_))\n",
    "plt.title(\"Microlensing Model\")"
   ]
  },
  {
   "cell_type": "code",
   "execution_count": 433,
   "id": "849b4f5f-a786-4c6e-b08e-c73187662004",
   "metadata": {
    "tags": []
   },
   "outputs": [
    {
     "name": "stderr",
     "output_type": "stream",
     "text": [
      "/tmp/ipykernel_602105/1194355180.py:2: RuntimeWarning: divide by zero encountered in log\n",
      "  plt.imshow(np.log(am_ml))\n"
     ]
    },
    {
     "data": {
      "text/plain": [
       "Text(0.5, 1.0, 'Natural Log of Adjacency Matrix for Injected Microlensing Event')"
      ]
     },
     "execution_count": 433,
     "metadata": {},
     "output_type": "execute_result"
    },
    {
     "data": {
      "image/png": "[encoded data removed]",
      "text/plain": [
       "<Figure size 432x288 with 2 Axes>"
      ]
     },
     "metadata": {
      "needs_background": "light"
     },
     "output_type": "display_data"
    }
   ],
   "source": [
    "_, _, am_ml = getam(numbins, A, myt)\n",
    "plt.imshow(np.log(am_ml))\n",
    "plt.colorbar()\n",
    "am_ml\n",
    "plt.title(\"Natural Log of Adjacency Matrix for Injected Microlensing Event\")"
   ]
  },
  {
   "cell_type": "code",
   "execution_count": 434,
   "id": "241b73f3-8368-47e2-96c9-500ef0e59ccb",
   "metadata": {
    "tags": []
   },
   "outputs": [],
   "source": [
    "f = np.random.uniform(min(df[\"normflux\"]), max(df[\"normflux\"]), len(df[\"MJD\"]))\n",
    "f = f/np.median(f)"
   ]
  },
  {
   "cell_type": "code",
   "execution_count": 435,
   "id": "a07d1652-e199-4696-975b-37a93422e2bb",
   "metadata": {
    "tags": []
   },
   "outputs": [
    {
     "data": {
      "text/plain": [
       "Text(0, 0.5, \"'Flux' (Noise)\")"
      ]
     },
     "execution_count": 435,
     "metadata": {},
     "output_type": "execute_result"
    },
    {
     "data": {
      "image/png": "[encoded data removed]",
      "text/plain": [
       "<Figure size 432x288 with 1 Axes>"
      ]
     },
     "metadata": {
      "needs_background": "light"
     },
     "output_type": "display_data"
    }
   ],
   "source": [
    "plt.scatter(df[\"MJD\"], f)\n",
    "plt.title(\"Random Noise\")\n",
    "plt.xlabel(\"MJD\")\n",
    "plt.ylabel(\"'Flux' (Noise)\")"
   ]
  },
  {
   "cell_type": "code",
   "execution_count": 436,
   "id": "6cd37841-27a6-4700-9e24-b2d53a5cb8db",
   "metadata": {
    "tags": []
   },
   "outputs": [
    {
     "name": "stderr",
     "output_type": "stream",
     "text": [
      "/tmp/ipykernel_602105/3025002011.py:2: RuntimeWarning: divide by zero encountered in log\n",
      "  plt.imshow(np.log(am_noise))\n"
     ]
    },
    {
     "data": {
      "text/plain": [
       "Text(0.5, 1.0, 'Natural Log of Adjacency Matrix for Random Noise')"
      ]
     },
     "execution_count": 436,
     "metadata": {},
     "output_type": "execute_result"
    },
    {
     "data": {
      "image/png": "[encoded data removed]",
      "text/plain": [
       "<Figure size 432x288 with 2 Axes>"
      ]
     },
     "metadata": {
      "needs_background": "light"
     },
     "output_type": "display_data"
    }
   ],
   "source": [
    "_, _, am_noise = getam(numbins, df[\"MJD\"], f)\n",
    "plt.imshow(np.log(am_noise))\n",
    "plt.colorbar()\n",
    "plt.title(\"Natural Log of Adjacency Matrix for Random Noise\")"
   ]
  },
  {
   "cell_type": "code",
   "execution_count": 421,
   "id": "8bd5a422-d78c-4f84-9751-e622caa801b6",
   "metadata": {
    "tags": []
   },
   "outputs": [
    {
     "data": {
      "text/plain": [
       "array([[23619.54161338,     0.        ,  4697.47821662,     0.        ,\n",
       "            0.        , 16536.05888844, 14729.00336992],\n",
       "       [    0.        ,     0.        ,     0.        ,     0.        ,\n",
       "            0.        ,     0.        ,     0.        ],\n",
       "       [    0.        ,     0.        ,    30.6622053 ,     0.        ,\n",
       "            0.        ,   966.96456302,  1074.02508223],\n",
       "       [    0.        ,     0.        ,     0.        ,     0.        ,\n",
       "            0.        ,     0.        ,     0.        ],\n",
       "       [    0.        ,     0.        ,     0.        ,     0.        ,\n",
       "            0.        ,     0.        ,     0.        ],\n",
       "       [    0.        ,     0.        ,     0.        ,     0.        ,\n",
       "            0.        ,  2711.71895902,  5975.95562646],\n",
       "       [    0.        ,     0.        ,     0.        ,     0.        ,\n",
       "            0.        ,     0.        ,  3704.28777708]])"
      ]
     },
     "execution_count": 421,
     "metadata": {},
     "output_type": "execute_result"
    }
   ],
   "source": [
    "am_noise"
   ]
  },
  {
   "cell_type": "code",
   "execution_count": null,
   "id": "a20d9302-74d8-43ee-9603-8fcebee72d35",
   "metadata": {},
   "outputs": [],
   "source": []
  }
 ],
 "metadata": {
  "kernelspec": {
   "display_name": "NERSC Python",
   "language": "python",
   "name": "python3"
  },
  "language_info": {
   "codemirror_mode": {
    "name": "ipython",
    "version": 3
   },
   "file_extension": ".py",
   "mimetype": "text/x-python",
   "name": "python",
   "nbconvert_exporter": "python",
   "pygments_lexer": "ipython3",
   "version": "3.9.7"
  }
 },
 "nbformat": 4,
 "nbformat_minor": 5
}
