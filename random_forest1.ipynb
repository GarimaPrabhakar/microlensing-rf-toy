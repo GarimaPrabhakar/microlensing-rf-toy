{
 "cells": [
  {
   "cell_type": "code",
   "execution_count": 1,
   "id": "fc503de3-6cdc-42cd-a740-5cf5e955f0c3",
   "metadata": {
    "tags": []
   },
   "outputs": [],
   "source": [
    "import pandas as pd\n",
    "import numpy as np"
   ]
  },
  {
   "cell_type": "code",
   "execution_count": 2,
   "id": "45f48c6d-3b0f-405f-9262-0db706d941a9",
   "metadata": {
    "scrolled": true,
    "tags": []
   },
   "outputs": [],
   "source": [
    "# !conda install scikit-learn --y\n",
    "cols = []\n",
    "cols.append('fn')\n",
    "cols.append('event')\n",
    "cols.append('tE')\n",
    "cols.append('t0')\n",
    "cols.append('u0')\n",
    "for i in range(49):\n",
    "    cols.append(i)"
   ]
  },
  {
   "cell_type": "code",
   "execution_count": 3,
   "id": "60727abb-8bda-44bb-931b-94812610f1f2",
   "metadata": {
    "tags": []
   },
   "outputs": [
    {
     "data": {
      "text/plain": [
       "RangeIndex(start=0, stop=22400, step=1)"
      ]
     },
     "execution_count": 3,
     "metadata": {},
     "output_type": "execute_result"
    }
   ],
   "source": [
    "dfml = pd.read_csv(\"trainingset/microlensing.csv\", names=cols)\n",
    "dfmlnot = pd.read_csv(\"trainingset/not_microlensing.csv\", names=cols)\n",
    "\n",
    "dfml[\"target\"] = 1\n",
    "dfmlnot[\"target\"] = 0\n",
    "\n",
    "df = pd.concat([dfml, dfmlnot], axis=0)\n",
    "df = df.sample(frac = 1).reset_index()\n",
    "\n",
    "df.index"
   ]
  },
  {
   "cell_type": "code",
   "execution_count": 4,
   "id": "fe968578-95bd-4c7c-b3a3-3abdc3b0bab4",
   "metadata": {
    "tags": []
   },
   "outputs": [],
   "source": [
    "myt = np.linspace(51543, 53389)\n",
    "f = 7000 + np.random.uniform(-100, 100, len(myt))"
   ]
  },
  {
   "cell_type": "code",
   "execution_count": null,
   "id": "2906bf6d-574c-45cb-b06e-f63b73853f3d",
   "metadata": {
    "tags": []
   },
   "outputs": [],
   "source": []
  },
  {
   "cell_type": "code",
   "execution_count": null,
   "id": "c73709d5-cf59-47a3-a112-f4e8a4f47b6a",
   "metadata": {
    "tags": []
   },
   "outputs": [],
   "source": []
  },
  {
   "cell_type": "code",
   "execution_count": 5,
   "id": "136966cf-3d9d-496c-8d5a-987308c18641",
   "metadata": {
    "tags": []
   },
   "outputs": [
    {
     "data": {
      "text/html": [
       "<div>\n",
       "<style scoped>\n",
       "    .dataframe tbody tr th:only-of-type {\n",
       "        vertical-align: middle;\n",
       "    }\n",
       "\n",
       "    .dataframe tbody tr th {\n",
       "        vertical-align: top;\n",
       "    }\n",
       "\n",
       "    .dataframe thead th {\n",
       "        text-align: right;\n",
       "    }\n",
       "</style>\n",
       "<table border=\"1\" class=\"dataframe\">\n",
       "  <thead>\n",
       "    <tr style=\"text-align: right;\">\n",
       "      <th></th>\n",
       "      <th>fn</th>\n",
       "      <th>event</th>\n",
       "      <th>tE</th>\n",
       "      <th>t0</th>\n",
       "      <th>u0</th>\n",
       "      <th>0</th>\n",
       "      <th>1</th>\n",
       "      <th>2</th>\n",
       "      <th>3</th>\n",
       "      <th>4</th>\n",
       "      <th>...</th>\n",
       "      <th>40</th>\n",
       "      <th>41</th>\n",
       "      <th>42</th>\n",
       "      <th>43</th>\n",
       "      <th>44</th>\n",
       "      <th>45</th>\n",
       "      <th>46</th>\n",
       "      <th>47</th>\n",
       "      <th>48</th>\n",
       "      <th>target</th>\n",
       "    </tr>\n",
       "  </thead>\n",
       "  <tbody>\n",
       "    <tr>\n",
       "      <th>0</th>\n",
       "      <td>../Crowdsourcecopy/crowdsource/crowdsource/csd...</td>\n",
       "      <td>low_noise_not_mlevent</td>\n",
       "      <td>0</td>\n",
       "      <td>0</td>\n",
       "      <td>0.00</td>\n",
       "      <td>391.646457</td>\n",
       "      <td>305.137691</td>\n",
       "      <td>296.512396</td>\n",
       "      <td>882.968646</td>\n",
       "      <td>390.954156</td>\n",
       "      <td>...</td>\n",
       "      <td>423.398732</td>\n",
       "      <td>714.370965</td>\n",
       "      <td>176.791558</td>\n",
       "      <td>724.148608</td>\n",
       "      <td>250.707974</td>\n",
       "      <td>324.070547</td>\n",
       "      <td>474.856296</td>\n",
       "      <td>685.314378</td>\n",
       "      <td>1044.306128</td>\n",
       "      <td>0</td>\n",
       "    </tr>\n",
       "    <tr>\n",
       "      <th>1</th>\n",
       "      <td>../Crowdsourcecopy/crowdsource/crowdsource/csd...</td>\n",
       "      <td>low_noise_not_mlevent</td>\n",
       "      <td>0</td>\n",
       "      <td>0</td>\n",
       "      <td>0.00</td>\n",
       "      <td>983.573938</td>\n",
       "      <td>222.755100</td>\n",
       "      <td>193.211023</td>\n",
       "      <td>572.072000</td>\n",
       "      <td>730.990944</td>\n",
       "      <td>...</td>\n",
       "      <td>0.842490</td>\n",
       "      <td>43.759947</td>\n",
       "      <td>366.095868</td>\n",
       "      <td>86.589880</td>\n",
       "      <td>675.207376</td>\n",
       "      <td>366.992857</td>\n",
       "      <td>118.410327</td>\n",
       "      <td>352.484882</td>\n",
       "      <td>403.541423</td>\n",
       "      <td>0</td>\n",
       "    </tr>\n",
       "    <tr>\n",
       "      <th>2</th>\n",
       "      <td>../Crowdsourcecopy/crowdsource/crowdsource/csd...</td>\n",
       "      <td>noise_not_mlevent</td>\n",
       "      <td>0</td>\n",
       "      <td>0</td>\n",
       "      <td>0.00</td>\n",
       "      <td>441.464830</td>\n",
       "      <td>358.249085</td>\n",
       "      <td>195.849196</td>\n",
       "      <td>825.424641</td>\n",
       "      <td>788.689648</td>\n",
       "      <td>...</td>\n",
       "      <td>382.857540</td>\n",
       "      <td>1267.161311</td>\n",
       "      <td>296.111640</td>\n",
       "      <td>1396.731572</td>\n",
       "      <td>607.526855</td>\n",
       "      <td>1356.319466</td>\n",
       "      <td>841.814552</td>\n",
       "      <td>634.456239</td>\n",
       "      <td>486.658730</td>\n",
       "      <td>0</td>\n",
       "    </tr>\n",
       "    <tr>\n",
       "      <th>3</th>\n",
       "      <td>../Crowdsourcecopy/crowdsource/crowdsource/csd...</td>\n",
       "      <td>noise_mlevent_orig</td>\n",
       "      <td>0</td>\n",
       "      <td>0</td>\n",
       "      <td>0.00</td>\n",
       "      <td>1.252823</td>\n",
       "      <td>0.955082</td>\n",
       "      <td>0.275586</td>\n",
       "      <td>269.320608</td>\n",
       "      <td>663.870532</td>\n",
       "      <td>...</td>\n",
       "      <td>0.007005</td>\n",
       "      <td>0.000000</td>\n",
       "      <td>0.744642</td>\n",
       "      <td>0.804793</td>\n",
       "      <td>355.416970</td>\n",
       "      <td>525.702447</td>\n",
       "      <td>1318.674033</td>\n",
       "      <td>355.782233</td>\n",
       "      <td>0.629228</td>\n",
       "      <td>1</td>\n",
       "    </tr>\n",
       "    <tr>\n",
       "      <th>4</th>\n",
       "      <td>../Crowdsourcecopy/crowdsource/crowdsource/csd...</td>\n",
       "      <td>noise_not_mlevent</td>\n",
       "      <td>0</td>\n",
       "      <td>0</td>\n",
       "      <td>0.00</td>\n",
       "      <td>3171.495239</td>\n",
       "      <td>993.999504</td>\n",
       "      <td>828.781736</td>\n",
       "      <td>1429.530467</td>\n",
       "      <td>796.495675</td>\n",
       "      <td>...</td>\n",
       "      <td>174.089047</td>\n",
       "      <td>561.690395</td>\n",
       "      <td>712.797170</td>\n",
       "      <td>4.675190</td>\n",
       "      <td>562.072586</td>\n",
       "      <td>393.475110</td>\n",
       "      <td>359.275320</td>\n",
       "      <td>680.250591</td>\n",
       "      <td>564.518794</td>\n",
       "      <td>0</td>\n",
       "    </tr>\n",
       "    <tr>\n",
       "      <th>...</th>\n",
       "      <td>...</td>\n",
       "      <td>...</td>\n",
       "      <td>...</td>\n",
       "      <td>...</td>\n",
       "      <td>...</td>\n",
       "      <td>...</td>\n",
       "      <td>...</td>\n",
       "      <td>...</td>\n",
       "      <td>...</td>\n",
       "      <td>...</td>\n",
       "      <td>...</td>\n",
       "      <td>...</td>\n",
       "      <td>...</td>\n",
       "      <td>...</td>\n",
       "      <td>...</td>\n",
       "      <td>...</td>\n",
       "      <td>...</td>\n",
       "      <td>...</td>\n",
       "      <td>...</td>\n",
       "      <td>...</td>\n",
       "      <td>...</td>\n",
       "    </tr>\n",
       "    <tr>\n",
       "      <th>22311</th>\n",
       "      <td>../Crowdsourcecopy/crowdsource/crowdsource/csd...</td>\n",
       "      <td>noise_not_mlevent</td>\n",
       "      <td>0</td>\n",
       "      <td>0</td>\n",
       "      <td>0.00</td>\n",
       "      <td>1240.627805</td>\n",
       "      <td>1254.296245</td>\n",
       "      <td>6.578505</td>\n",
       "      <td>223.344411</td>\n",
       "      <td>69.153157</td>\n",
       "      <td>...</td>\n",
       "      <td>816.151690</td>\n",
       "      <td>217.403636</td>\n",
       "      <td>1507.022177</td>\n",
       "      <td>1306.302829</td>\n",
       "      <td>672.807733</td>\n",
       "      <td>630.023976</td>\n",
       "      <td>642.848703</td>\n",
       "      <td>669.033956</td>\n",
       "      <td>433.696258</td>\n",
       "      <td>0</td>\n",
       "    </tr>\n",
       "    <tr>\n",
       "      <th>22312</th>\n",
       "      <td>../Crowdsourcecopy/crowdsource/crowdsource/csd...</td>\n",
       "      <td>noise_mlevent_new</td>\n",
       "      <td>122</td>\n",
       "      <td>-33</td>\n",
       "      <td>0.28</td>\n",
       "      <td>0.002552</td>\n",
       "      <td>0.000000</td>\n",
       "      <td>0.002591</td>\n",
       "      <td>0.000000</td>\n",
       "      <td>0.000000</td>\n",
       "      <td>...</td>\n",
       "      <td>0.000000</td>\n",
       "      <td>0.000000</td>\n",
       "      <td>0.005665</td>\n",
       "      <td>0.000000</td>\n",
       "      <td>89.388842</td>\n",
       "      <td>0.037145</td>\n",
       "      <td>268.435427</td>\n",
       "      <td>0.000000</td>\n",
       "      <td>0.172316</td>\n",
       "      <td>1</td>\n",
       "    </tr>\n",
       "    <tr>\n",
       "      <th>22313</th>\n",
       "      <td>../Crowdsourcecopy/crowdsource/crowdsource/csd...</td>\n",
       "      <td>low_noise_not_mlevent</td>\n",
       "      <td>0</td>\n",
       "      <td>0</td>\n",
       "      <td>0.00</td>\n",
       "      <td>162.848614</td>\n",
       "      <td>35.104636</td>\n",
       "      <td>269.192772</td>\n",
       "      <td>0.000000</td>\n",
       "      <td>0.016003</td>\n",
       "      <td>...</td>\n",
       "      <td>23.085070</td>\n",
       "      <td>270.910938</td>\n",
       "      <td>27.824053</td>\n",
       "      <td>114.890565</td>\n",
       "      <td>134.522811</td>\n",
       "      <td>0.016411</td>\n",
       "      <td>0.009645</td>\n",
       "      <td>23.071173</td>\n",
       "      <td>0.005050</td>\n",
       "      <td>0</td>\n",
       "    </tr>\n",
       "    <tr>\n",
       "      <th>22314</th>\n",
       "      <td>../Crowdsourcecopy/crowdsource/crowdsource/csd...</td>\n",
       "      <td>low_noise_not_mlevent</td>\n",
       "      <td>0</td>\n",
       "      <td>0</td>\n",
       "      <td>0.00</td>\n",
       "      <td>38.218612</td>\n",
       "      <td>128.242414</td>\n",
       "      <td>0.762988</td>\n",
       "      <td>355.219332</td>\n",
       "      <td>66.104801</td>\n",
       "      <td>...</td>\n",
       "      <td>0.040851</td>\n",
       "      <td>0.029663</td>\n",
       "      <td>1071.150456</td>\n",
       "      <td>186.854115</td>\n",
       "      <td>218.967116</td>\n",
       "      <td>272.092372</td>\n",
       "      <td>881.893482</td>\n",
       "      <td>217.249867</td>\n",
       "      <td>665.516847</td>\n",
       "      <td>0</td>\n",
       "    </tr>\n",
       "    <tr>\n",
       "      <th>22315</th>\n",
       "      <td>../Crowdsourcecopy/crowdsource/crowdsource/csd...</td>\n",
       "      <td>low_noise_mlevent_new</td>\n",
       "      <td>83</td>\n",
       "      <td>7</td>\n",
       "      <td>0.15</td>\n",
       "      <td>1981.061787</td>\n",
       "      <td>1.643103</td>\n",
       "      <td>0.853925</td>\n",
       "      <td>372.351062</td>\n",
       "      <td>1136.251548</td>\n",
       "      <td>...</td>\n",
       "      <td>0.106684</td>\n",
       "      <td>0.000000</td>\n",
       "      <td>0.000000</td>\n",
       "      <td>0.143637</td>\n",
       "      <td>1.257706</td>\n",
       "      <td>0.731679</td>\n",
       "      <td>0.066309</td>\n",
       "      <td>0.057026</td>\n",
       "      <td>0.018538</td>\n",
       "      <td>1</td>\n",
       "    </tr>\n",
       "  </tbody>\n",
       "</table>\n",
       "<p>22316 rows × 55 columns</p>\n",
       "</div>"
      ],
      "text/plain": [
       "                                                      fn   \n",
       "0      ../Crowdsourcecopy/crowdsource/crowdsource/csd...  \\\n",
       "1      ../Crowdsourcecopy/crowdsource/crowdsource/csd...   \n",
       "2      ../Crowdsourcecopy/crowdsource/crowdsource/csd...   \n",
       "3      ../Crowdsourcecopy/crowdsource/crowdsource/csd...   \n",
       "4      ../Crowdsourcecopy/crowdsource/crowdsource/csd...   \n",
       "...                                                  ...   \n",
       "22311  ../Crowdsourcecopy/crowdsource/crowdsource/csd...   \n",
       "22312  ../Crowdsourcecopy/crowdsource/crowdsource/csd...   \n",
       "22313  ../Crowdsourcecopy/crowdsource/crowdsource/csd...   \n",
       "22314  ../Crowdsourcecopy/crowdsource/crowdsource/csd...   \n",
       "22315  ../Crowdsourcecopy/crowdsource/crowdsource/csd...   \n",
       "\n",
       "                       event   tE  t0    u0            0            1   \n",
       "0      low_noise_not_mlevent    0   0  0.00   391.646457   305.137691  \\\n",
       "1      low_noise_not_mlevent    0   0  0.00   983.573938   222.755100   \n",
       "2          noise_not_mlevent    0   0  0.00   441.464830   358.249085   \n",
       "3         noise_mlevent_orig    0   0  0.00     1.252823     0.955082   \n",
       "4          noise_not_mlevent    0   0  0.00  3171.495239   993.999504   \n",
       "...                      ...  ...  ..   ...          ...          ...   \n",
       "22311      noise_not_mlevent    0   0  0.00  1240.627805  1254.296245   \n",
       "22312      noise_mlevent_new  122 -33  0.28     0.002552     0.000000   \n",
       "22313  low_noise_not_mlevent    0   0  0.00   162.848614    35.104636   \n",
       "22314  low_noise_not_mlevent    0   0  0.00    38.218612   128.242414   \n",
       "22315  low_noise_mlevent_new   83   7  0.15  1981.061787     1.643103   \n",
       "\n",
       "                2            3            4  ...          40           41   \n",
       "0      296.512396   882.968646   390.954156  ...  423.398732   714.370965  \\\n",
       "1      193.211023   572.072000   730.990944  ...    0.842490    43.759947   \n",
       "2      195.849196   825.424641   788.689648  ...  382.857540  1267.161311   \n",
       "3        0.275586   269.320608   663.870532  ...    0.007005     0.000000   \n",
       "4      828.781736  1429.530467   796.495675  ...  174.089047   561.690395   \n",
       "...           ...          ...          ...  ...         ...          ...   \n",
       "22311    6.578505   223.344411    69.153157  ...  816.151690   217.403636   \n",
       "22312    0.002591     0.000000     0.000000  ...    0.000000     0.000000   \n",
       "22313  269.192772     0.000000     0.016003  ...   23.085070   270.910938   \n",
       "22314    0.762988   355.219332    66.104801  ...    0.040851     0.029663   \n",
       "22315    0.853925   372.351062  1136.251548  ...    0.106684     0.000000   \n",
       "\n",
       "                42           43          44           45           46   \n",
       "0       176.791558   724.148608  250.707974   324.070547   474.856296  \\\n",
       "1       366.095868    86.589880  675.207376   366.992857   118.410327   \n",
       "2       296.111640  1396.731572  607.526855  1356.319466   841.814552   \n",
       "3         0.744642     0.804793  355.416970   525.702447  1318.674033   \n",
       "4       712.797170     4.675190  562.072586   393.475110   359.275320   \n",
       "...            ...          ...         ...          ...          ...   \n",
       "22311  1507.022177  1306.302829  672.807733   630.023976   642.848703   \n",
       "22312     0.005665     0.000000   89.388842     0.037145   268.435427   \n",
       "22313    27.824053   114.890565  134.522811     0.016411     0.009645   \n",
       "22314  1071.150456   186.854115  218.967116   272.092372   881.893482   \n",
       "22315     0.000000     0.143637    1.257706     0.731679     0.066309   \n",
       "\n",
       "               47           48  target  \n",
       "0      685.314378  1044.306128       0  \n",
       "1      352.484882   403.541423       0  \n",
       "2      634.456239   486.658730       0  \n",
       "3      355.782233     0.629228       1  \n",
       "4      680.250591   564.518794       0  \n",
       "...           ...          ...     ...  \n",
       "22311  669.033956   433.696258       0  \n",
       "22312    0.000000     0.172316       1  \n",
       "22313   23.071173     0.005050       0  \n",
       "22314  217.249867   665.516847       0  \n",
       "22315    0.057026     0.018538       1  \n",
       "\n",
       "[22316 rows x 55 columns]"
      ]
     },
     "metadata": {},
     "output_type": "display_data"
    }
   ],
   "source": [
    "df.replace([np.inf, -np.inf], np.nan, inplace=True)\n",
    "\n",
    "# Drop rows with NaN\n",
    "df.dropna(inplace=True)\n",
    "\n",
    "# df.dropna().iloc[np.where(df.dropna()==np.inf)]\n",
    "\n",
    "df = df.reset_index()\n",
    "df = df.drop([\"index\", \"level_0\"], axis=1)\n",
    "display(df)"
   ]
  },
  {
   "cell_type": "code",
   "execution_count": 6,
   "id": "c04dcd42-e0db-42bc-98b6-cfedbbecb6e9",
   "metadata": {
    "tags": []
   },
   "outputs": [
    {
     "data": {
      "text/plain": [
       "array(['low_noise_mlevent_new', 'low_noise_not_mlevent', 'mlevent',\n",
       "       'noise_mlevent_new', 'noise_mlevent_orig', 'noise_not_mlevent',\n",
       "       'not_mlevent'], dtype=object)"
      ]
     },
     "execution_count": 6,
     "metadata": {},
     "output_type": "execute_result"
    }
   ],
   "source": [
    "event = df[\"event\"]\n",
    "np.unique(df[\"event\"])"
   ]
  },
  {
   "cell_type": "code",
   "execution_count": 7,
   "id": "d0510d7c-b570-46eb-bfa6-e3e8f0da9356",
   "metadata": {
    "tags": []
   },
   "outputs": [
    {
     "data": {
      "text/html": [
       "<div>\n",
       "<style scoped>\n",
       "    .dataframe tbody tr th:only-of-type {\n",
       "        vertical-align: middle;\n",
       "    }\n",
       "\n",
       "    .dataframe tbody tr th {\n",
       "        vertical-align: top;\n",
       "    }\n",
       "\n",
       "    .dataframe thead th {\n",
       "        text-align: right;\n",
       "    }\n",
       "</style>\n",
       "<table border=\"1\" class=\"dataframe\">\n",
       "  <thead>\n",
       "    <tr style=\"text-align: right;\">\n",
       "      <th></th>\n",
       "      <th>index</th>\n",
       "      <th>fn</th>\n",
       "      <th>event</th>\n",
       "      <th>tE</th>\n",
       "      <th>t0</th>\n",
       "      <th>u0</th>\n",
       "      <th>0</th>\n",
       "      <th>1</th>\n",
       "      <th>2</th>\n",
       "      <th>3</th>\n",
       "      <th>...</th>\n",
       "      <th>40</th>\n",
       "      <th>41</th>\n",
       "      <th>42</th>\n",
       "      <th>43</th>\n",
       "      <th>44</th>\n",
       "      <th>45</th>\n",
       "      <th>46</th>\n",
       "      <th>47</th>\n",
       "      <th>48</th>\n",
       "      <th>target</th>\n",
       "    </tr>\n",
       "  </thead>\n",
       "  <tbody>\n",
       "    <tr>\n",
       "      <th>0</th>\n",
       "      <td>0</td>\n",
       "      <td>../Crowdsourcecopy/crowdsource/crowdsource/csd...</td>\n",
       "      <td>low_noise_not_mlevent</td>\n",
       "      <td>0</td>\n",
       "      <td>0</td>\n",
       "      <td>0.00</td>\n",
       "      <td>391.646457</td>\n",
       "      <td>305.137691</td>\n",
       "      <td>296.512396</td>\n",
       "      <td>882.968646</td>\n",
       "      <td>...</td>\n",
       "      <td>423.398732</td>\n",
       "      <td>714.370965</td>\n",
       "      <td>176.791558</td>\n",
       "      <td>724.148608</td>\n",
       "      <td>250.707974</td>\n",
       "      <td>324.070547</td>\n",
       "      <td>474.856296</td>\n",
       "      <td>685.314378</td>\n",
       "      <td>1044.306128</td>\n",
       "      <td>0</td>\n",
       "    </tr>\n",
       "    <tr>\n",
       "      <th>1</th>\n",
       "      <td>1</td>\n",
       "      <td>../Crowdsourcecopy/crowdsource/crowdsource/csd...</td>\n",
       "      <td>low_noise_not_mlevent</td>\n",
       "      <td>0</td>\n",
       "      <td>0</td>\n",
       "      <td>0.00</td>\n",
       "      <td>983.573938</td>\n",
       "      <td>222.755100</td>\n",
       "      <td>193.211023</td>\n",
       "      <td>572.072000</td>\n",
       "      <td>...</td>\n",
       "      <td>0.842490</td>\n",
       "      <td>43.759947</td>\n",
       "      <td>366.095868</td>\n",
       "      <td>86.589880</td>\n",
       "      <td>675.207376</td>\n",
       "      <td>366.992857</td>\n",
       "      <td>118.410327</td>\n",
       "      <td>352.484882</td>\n",
       "      <td>403.541423</td>\n",
       "      <td>0</td>\n",
       "    </tr>\n",
       "    <tr>\n",
       "      <th>2</th>\n",
       "      <td>5</td>\n",
       "      <td>../Crowdsourcecopy/crowdsource/crowdsource/csd...</td>\n",
       "      <td>low_noise_mlevent_new</td>\n",
       "      <td>99</td>\n",
       "      <td>-10</td>\n",
       "      <td>0.77</td>\n",
       "      <td>431.348608</td>\n",
       "      <td>545.570171</td>\n",
       "      <td>305.800594</td>\n",
       "      <td>0.019776</td>\n",
       "      <td>...</td>\n",
       "      <td>565.895635</td>\n",
       "      <td>68.198400</td>\n",
       "      <td>0.013902</td>\n",
       "      <td>0.056410</td>\n",
       "      <td>0.034724</td>\n",
       "      <td>0.018537</td>\n",
       "      <td>0.014303</td>\n",
       "      <td>0.042501</td>\n",
       "      <td>0.013901</td>\n",
       "      <td>1</td>\n",
       "    </tr>\n",
       "    <tr>\n",
       "      <th>3</th>\n",
       "      <td>10</td>\n",
       "      <td>../Crowdsourcecopy/crowdsource/crowdsource/csd...</td>\n",
       "      <td>low_noise_mlevent_new</td>\n",
       "      <td>586</td>\n",
       "      <td>-4</td>\n",
       "      <td>0.94</td>\n",
       "      <td>0.217303</td>\n",
       "      <td>378.282877</td>\n",
       "      <td>637.075744</td>\n",
       "      <td>0.000000</td>\n",
       "      <td>...</td>\n",
       "      <td>0.000000</td>\n",
       "      <td>0.000000</td>\n",
       "      <td>0.038676</td>\n",
       "      <td>240.198333</td>\n",
       "      <td>266.633972</td>\n",
       "      <td>0.000000</td>\n",
       "      <td>262.221818</td>\n",
       "      <td>0.000000</td>\n",
       "      <td>126.659575</td>\n",
       "      <td>1</td>\n",
       "    </tr>\n",
       "    <tr>\n",
       "      <th>4</th>\n",
       "      <td>15</td>\n",
       "      <td>../Crowdsourcecopy/crowdsource/crowdsource/csd...</td>\n",
       "      <td>low_noise_not_mlevent</td>\n",
       "      <td>0</td>\n",
       "      <td>0</td>\n",
       "      <td>0.00</td>\n",
       "      <td>1080.173165</td>\n",
       "      <td>936.126648</td>\n",
       "      <td>1031.396678</td>\n",
       "      <td>879.470082</td>\n",
       "      <td>...</td>\n",
       "      <td>884.243869</td>\n",
       "      <td>273.982061</td>\n",
       "      <td>104.306105</td>\n",
       "      <td>439.208487</td>\n",
       "      <td>315.981214</td>\n",
       "      <td>600.914363</td>\n",
       "      <td>284.599335</td>\n",
       "      <td>269.189156</td>\n",
       "      <td>87.053729</td>\n",
       "      <td>0</td>\n",
       "    </tr>\n",
       "    <tr>\n",
       "      <th>...</th>\n",
       "      <td>...</td>\n",
       "      <td>...</td>\n",
       "      <td>...</td>\n",
       "      <td>...</td>\n",
       "      <td>...</td>\n",
       "      <td>...</td>\n",
       "      <td>...</td>\n",
       "      <td>...</td>\n",
       "      <td>...</td>\n",
       "      <td>...</td>\n",
       "      <td>...</td>\n",
       "      <td>...</td>\n",
       "      <td>...</td>\n",
       "      <td>...</td>\n",
       "      <td>...</td>\n",
       "      <td>...</td>\n",
       "      <td>...</td>\n",
       "      <td>...</td>\n",
       "      <td>...</td>\n",
       "      <td>...</td>\n",
       "      <td>...</td>\n",
       "    </tr>\n",
       "    <tr>\n",
       "      <th>6371</th>\n",
       "      <td>22302</td>\n",
       "      <td>../Crowdsourcecopy/crowdsource/crowdsource/csd...</td>\n",
       "      <td>low_noise_not_mlevent</td>\n",
       "      <td>0</td>\n",
       "      <td>0</td>\n",
       "      <td>0.00</td>\n",
       "      <td>238.839080</td>\n",
       "      <td>115.182045</td>\n",
       "      <td>172.222467</td>\n",
       "      <td>0.000000</td>\n",
       "      <td>...</td>\n",
       "      <td>86.304002</td>\n",
       "      <td>305.153361</td>\n",
       "      <td>0.047771</td>\n",
       "      <td>137.867457</td>\n",
       "      <td>269.333427</td>\n",
       "      <td>0.000000</td>\n",
       "      <td>308.889190</td>\n",
       "      <td>395.753431</td>\n",
       "      <td>309.008953</td>\n",
       "      <td>0</td>\n",
       "    </tr>\n",
       "    <tr>\n",
       "      <th>6372</th>\n",
       "      <td>22310</td>\n",
       "      <td>../Crowdsourcecopy/crowdsource/crowdsource/csd...</td>\n",
       "      <td>low_noise_not_mlevent</td>\n",
       "      <td>0</td>\n",
       "      <td>0</td>\n",
       "      <td>0.00</td>\n",
       "      <td>67.586291</td>\n",
       "      <td>244.659054</td>\n",
       "      <td>541.398319</td>\n",
       "      <td>150.892989</td>\n",
       "      <td>...</td>\n",
       "      <td>296.800549</td>\n",
       "      <td>408.307865</td>\n",
       "      <td>901.006568</td>\n",
       "      <td>1844.541728</td>\n",
       "      <td>401.954310</td>\n",
       "      <td>426.539694</td>\n",
       "      <td>947.045638</td>\n",
       "      <td>393.251776</td>\n",
       "      <td>1252.960174</td>\n",
       "      <td>0</td>\n",
       "    </tr>\n",
       "    <tr>\n",
       "      <th>6373</th>\n",
       "      <td>22313</td>\n",
       "      <td>../Crowdsourcecopy/crowdsource/crowdsource/csd...</td>\n",
       "      <td>low_noise_not_mlevent</td>\n",
       "      <td>0</td>\n",
       "      <td>0</td>\n",
       "      <td>0.00</td>\n",
       "      <td>162.848614</td>\n",
       "      <td>35.104636</td>\n",
       "      <td>269.192772</td>\n",
       "      <td>0.000000</td>\n",
       "      <td>...</td>\n",
       "      <td>23.085070</td>\n",
       "      <td>270.910938</td>\n",
       "      <td>27.824053</td>\n",
       "      <td>114.890565</td>\n",
       "      <td>134.522811</td>\n",
       "      <td>0.016411</td>\n",
       "      <td>0.009645</td>\n",
       "      <td>23.071173</td>\n",
       "      <td>0.005050</td>\n",
       "      <td>0</td>\n",
       "    </tr>\n",
       "    <tr>\n",
       "      <th>6374</th>\n",
       "      <td>22314</td>\n",
       "      <td>../Crowdsourcecopy/crowdsource/crowdsource/csd...</td>\n",
       "      <td>low_noise_not_mlevent</td>\n",
       "      <td>0</td>\n",
       "      <td>0</td>\n",
       "      <td>0.00</td>\n",
       "      <td>38.218612</td>\n",
       "      <td>128.242414</td>\n",
       "      <td>0.762988</td>\n",
       "      <td>355.219332</td>\n",
       "      <td>...</td>\n",
       "      <td>0.040851</td>\n",
       "      <td>0.029663</td>\n",
       "      <td>1071.150456</td>\n",
       "      <td>186.854115</td>\n",
       "      <td>218.967116</td>\n",
       "      <td>272.092372</td>\n",
       "      <td>881.893482</td>\n",
       "      <td>217.249867</td>\n",
       "      <td>665.516847</td>\n",
       "      <td>0</td>\n",
       "    </tr>\n",
       "    <tr>\n",
       "      <th>6375</th>\n",
       "      <td>22315</td>\n",
       "      <td>../Crowdsourcecopy/crowdsource/crowdsource/csd...</td>\n",
       "      <td>low_noise_mlevent_new</td>\n",
       "      <td>83</td>\n",
       "      <td>7</td>\n",
       "      <td>0.15</td>\n",
       "      <td>1981.061787</td>\n",
       "      <td>1.643103</td>\n",
       "      <td>0.853925</td>\n",
       "      <td>372.351062</td>\n",
       "      <td>...</td>\n",
       "      <td>0.106684</td>\n",
       "      <td>0.000000</td>\n",
       "      <td>0.000000</td>\n",
       "      <td>0.143637</td>\n",
       "      <td>1.257706</td>\n",
       "      <td>0.731679</td>\n",
       "      <td>0.066309</td>\n",
       "      <td>0.057026</td>\n",
       "      <td>0.018538</td>\n",
       "      <td>1</td>\n",
       "    </tr>\n",
       "  </tbody>\n",
       "</table>\n",
       "<p>6376 rows × 56 columns</p>\n",
       "</div>"
      ],
      "text/plain": [
       "      index                                                 fn   \n",
       "0         0  ../Crowdsourcecopy/crowdsource/crowdsource/csd...  \\\n",
       "1         1  ../Crowdsourcecopy/crowdsource/crowdsource/csd...   \n",
       "2         5  ../Crowdsourcecopy/crowdsource/crowdsource/csd...   \n",
       "3        10  ../Crowdsourcecopy/crowdsource/crowdsource/csd...   \n",
       "4        15  ../Crowdsourcecopy/crowdsource/crowdsource/csd...   \n",
       "...     ...                                                ...   \n",
       "6371  22302  ../Crowdsourcecopy/crowdsource/crowdsource/csd...   \n",
       "6372  22310  ../Crowdsourcecopy/crowdsource/crowdsource/csd...   \n",
       "6373  22313  ../Crowdsourcecopy/crowdsource/crowdsource/csd...   \n",
       "6374  22314  ../Crowdsourcecopy/crowdsource/crowdsource/csd...   \n",
       "6375  22315  ../Crowdsourcecopy/crowdsource/crowdsource/csd...   \n",
       "\n",
       "                      event   tE  t0    u0            0           1   \n",
       "0     low_noise_not_mlevent    0   0  0.00   391.646457  305.137691  \\\n",
       "1     low_noise_not_mlevent    0   0  0.00   983.573938  222.755100   \n",
       "2     low_noise_mlevent_new   99 -10  0.77   431.348608  545.570171   \n",
       "3     low_noise_mlevent_new  586  -4  0.94     0.217303  378.282877   \n",
       "4     low_noise_not_mlevent    0   0  0.00  1080.173165  936.126648   \n",
       "...                     ...  ...  ..   ...          ...         ...   \n",
       "6371  low_noise_not_mlevent    0   0  0.00   238.839080  115.182045   \n",
       "6372  low_noise_not_mlevent    0   0  0.00    67.586291  244.659054   \n",
       "6373  low_noise_not_mlevent    0   0  0.00   162.848614   35.104636   \n",
       "6374  low_noise_not_mlevent    0   0  0.00    38.218612  128.242414   \n",
       "6375  low_noise_mlevent_new   83   7  0.15  1981.061787    1.643103   \n",
       "\n",
       "                2           3  ...          40          41           42   \n",
       "0      296.512396  882.968646  ...  423.398732  714.370965   176.791558  \\\n",
       "1      193.211023  572.072000  ...    0.842490   43.759947   366.095868   \n",
       "2      305.800594    0.019776  ...  565.895635   68.198400     0.013902   \n",
       "3      637.075744    0.000000  ...    0.000000    0.000000     0.038676   \n",
       "4     1031.396678  879.470082  ...  884.243869  273.982061   104.306105   \n",
       "...           ...         ...  ...         ...         ...          ...   \n",
       "6371   172.222467    0.000000  ...   86.304002  305.153361     0.047771   \n",
       "6372   541.398319  150.892989  ...  296.800549  408.307865   901.006568   \n",
       "6373   269.192772    0.000000  ...   23.085070  270.910938    27.824053   \n",
       "6374     0.762988  355.219332  ...    0.040851    0.029663  1071.150456   \n",
       "6375     0.853925  372.351062  ...    0.106684    0.000000     0.000000   \n",
       "\n",
       "               43          44          45          46          47   \n",
       "0      724.148608  250.707974  324.070547  474.856296  685.314378  \\\n",
       "1       86.589880  675.207376  366.992857  118.410327  352.484882   \n",
       "2        0.056410    0.034724    0.018537    0.014303    0.042501   \n",
       "3      240.198333  266.633972    0.000000  262.221818    0.000000   \n",
       "4      439.208487  315.981214  600.914363  284.599335  269.189156   \n",
       "...           ...         ...         ...         ...         ...   \n",
       "6371   137.867457  269.333427    0.000000  308.889190  395.753431   \n",
       "6372  1844.541728  401.954310  426.539694  947.045638  393.251776   \n",
       "6373   114.890565  134.522811    0.016411    0.009645   23.071173   \n",
       "6374   186.854115  218.967116  272.092372  881.893482  217.249867   \n",
       "6375     0.143637    1.257706    0.731679    0.066309    0.057026   \n",
       "\n",
       "               48  target  \n",
       "0     1044.306128       0  \n",
       "1      403.541423       0  \n",
       "2        0.013901       1  \n",
       "3      126.659575       1  \n",
       "4       87.053729       0  \n",
       "...           ...     ...  \n",
       "6371   309.008953       0  \n",
       "6372  1252.960174       0  \n",
       "6373     0.005050       0  \n",
       "6374   665.516847       0  \n",
       "6375     0.018538       1  \n",
       "\n",
       "[6376 rows x 56 columns]"
      ]
     },
     "execution_count": 7,
     "metadata": {},
     "output_type": "execute_result"
    }
   ],
   "source": [
    "df = df.iloc[np.where((event==\"low_noise_not_mlevent\") | (event==\"low_noise_mlevent_new\"))]\n",
    "\n",
    "for count, row in df.iterrows():\n",
    "    if row[\"event\"]==\"low_noise_not_mlevent\":\n",
    "        for i in range(len(row)):\n",
    "            row.iloc[i]=0\n",
    "            \n",
    "df = df.reset_index()\n",
    "df"
   ]
  },
  {
   "cell_type": "code",
   "execution_count": 8,
   "id": "9b82cdd8-b304-41b9-8ec4-9e4f708cc843",
   "metadata": {
    "tags": []
   },
   "outputs": [],
   "source": [
    "x = df.drop(['target', 'fn', 'tE', 't0', 'u0', 'event', \"index\"],axis='columns')\n",
    "y = df[\"target\"]"
   ]
  },
  {
   "cell_type": "code",
   "execution_count": 9,
   "id": "4b533705-ce94-4873-a6c4-8cdc6e8ecbf7",
   "metadata": {
    "tags": []
   },
   "outputs": [],
   "source": [
    "# x = np.log(x)\n",
    "# x.replace([np.inf, -np.inf], 0, inplace=True)\n",
    "x = x/np.max(x)"
   ]
  },
  {
   "cell_type": "code",
   "execution_count": 10,
   "id": "234b7388-bcc7-4347-92a5-a50d3865bc54",
   "metadata": {
    "tags": []
   },
   "outputs": [
    {
     "data": {
      "text/plain": [
       "6375"
      ]
     },
     "execution_count": 10,
     "metadata": {},
     "output_type": "execute_result"
    }
   ],
   "source": [
    "max(df.index)"
   ]
  },
  {
   "cell_type": "code",
   "execution_count": 11,
   "id": "ff306750-7a44-425e-8695-d0315ec18135",
   "metadata": {
    "tags": []
   },
   "outputs": [],
   "source": [
    "from sklearn.model_selection import train_test_split\n",
    "X_train, X_test, y_train, y_test = train_test_split(x,y,test_size=0.2)"
   ]
  },
  {
   "cell_type": "code",
   "execution_count": 12,
   "id": "ed5e2c53-f883-4830-9992-d00a16c8c1c1",
   "metadata": {
    "tags": []
   },
   "outputs": [
    {
     "data": {
      "text/plain": [
       "6374"
      ]
     },
     "execution_count": 12,
     "metadata": {},
     "output_type": "execute_result"
    }
   ],
   "source": [
    "max(X_test.index)"
   ]
  },
  {
   "cell_type": "code",
   "execution_count": 33,
   "id": "21669323-bbc2-4874-8fa2-d778de983b08",
   "metadata": {
    "tags": []
   },
   "outputs": [
    {
     "name": "stderr",
     "output_type": "stream",
     "text": [
      "[Parallel(n_jobs=-1)]: Using backend ThreadingBackend with 256 concurrent workers.\n",
      "[Parallel(n_jobs=-1)]: Done  94 out of 100 | elapsed:    0.3s remaining:    0.0s\n",
      "[Parallel(n_jobs=-1)]: Done 100 out of 100 | elapsed:    0.3s finished\n"
     ]
    },
    {
     "data": {
      "text/html": [
       "<style>#sk-container-id-11 {color: black;}#sk-container-id-11 pre{padding: 0;}#sk-container-id-11 div.sk-toggleable {background-color: white;}#sk-container-id-11 label.sk-toggleable__label {cursor: pointer;display: block;width: 100%;margin-bottom: 0;padding: 0.3em;box-sizing: border-box;text-align: center;}#sk-container-id-11 label.sk-toggleable__label-arrow:before {content: \"▸\";float: left;margin-right: 0.25em;color: #696969;}#sk-container-id-11 label.sk-toggleable__label-arrow:hover:before {color: black;}#sk-container-id-11 div.sk-estimator:hover label.sk-toggleable__label-arrow:before {color: black;}#sk-container-id-11 div.sk-toggleable__content {max-height: 0;max-width: 0;overflow: hidden;text-align: left;background-color: #f0f8ff;}#sk-container-id-11 div.sk-toggleable__content pre {margin: 0.2em;color: black;border-radius: 0.25em;background-color: #f0f8ff;}#sk-container-id-11 input.sk-toggleable__control:checked~div.sk-toggleable__content {max-height: 200px;max-width: 100%;overflow: auto;}#sk-container-id-11 input.sk-toggleable__control:checked~label.sk-toggleable__label-arrow:before {content: \"▾\";}#sk-container-id-11 div.sk-estimator input.sk-toggleable__control:checked~label.sk-toggleable__label {background-color: #d4ebff;}#sk-container-id-11 div.sk-label input.sk-toggleable__control:checked~label.sk-toggleable__label {background-color: #d4ebff;}#sk-container-id-11 input.sk-hidden--visually {border: 0;clip: rect(1px 1px 1px 1px);clip: rect(1px, 1px, 1px, 1px);height: 1px;margin: -1px;overflow: hidden;padding: 0;position: absolute;width: 1px;}#sk-container-id-11 div.sk-estimator {font-family: monospace;background-color: #f0f8ff;border: 1px dotted black;border-radius: 0.25em;box-sizing: border-box;margin-bottom: 0.5em;}#sk-container-id-11 div.sk-estimator:hover {background-color: #d4ebff;}#sk-container-id-11 div.sk-parallel-item::after {content: \"\";width: 100%;border-bottom: 1px solid gray;flex-grow: 1;}#sk-container-id-11 div.sk-label:hover label.sk-toggleable__label {background-color: #d4ebff;}#sk-container-id-11 div.sk-serial::before {content: \"\";position: absolute;border-left: 1px solid gray;box-sizing: border-box;top: 0;bottom: 0;left: 50%;z-index: 0;}#sk-container-id-11 div.sk-serial {display: flex;flex-direction: column;align-items: center;background-color: white;padding-right: 0.2em;padding-left: 0.2em;position: relative;}#sk-container-id-11 div.sk-item {position: relative;z-index: 1;}#sk-container-id-11 div.sk-parallel {display: flex;align-items: stretch;justify-content: center;background-color: white;position: relative;}#sk-container-id-11 div.sk-item::before, #sk-container-id-11 div.sk-parallel-item::before {content: \"\";position: absolute;border-left: 1px solid gray;box-sizing: border-box;top: 0;bottom: 0;left: 50%;z-index: -1;}#sk-container-id-11 div.sk-parallel-item {display: flex;flex-direction: column;z-index: 1;position: relative;background-color: white;}#sk-container-id-11 div.sk-parallel-item:first-child::after {align-self: flex-end;width: 50%;}#sk-container-id-11 div.sk-parallel-item:last-child::after {align-self: flex-start;width: 50%;}#sk-container-id-11 div.sk-parallel-item:only-child::after {width: 0;}#sk-container-id-11 div.sk-dashed-wrapped {border: 1px dashed gray;margin: 0 0.4em 0.5em 0.4em;box-sizing: border-box;padding-bottom: 0.4em;background-color: white;}#sk-container-id-11 div.sk-label label {font-family: monospace;font-weight: bold;display: inline-block;line-height: 1.2em;}#sk-container-id-11 div.sk-label-container {text-align: center;}#sk-container-id-11 div.sk-container {/* jupyter's `normalize.less` sets `[hidden] { display: none; }` but bootstrap.min.css set `[hidden] { display: none !important; }` so we also need the `!important` here to be able to override the default hidden behavior on the sphinx rendered scikit-learn.org. See: https://github.com/scikit-learn/scikit-learn/issues/21755 */display: inline-block !important;position: relative;}#sk-container-id-11 div.sk-text-repr-fallback {display: none;}</style><div id=\"sk-container-id-11\" class=\"sk-top-container\"><div class=\"sk-text-repr-fallback\"><pre>RandomForestClassifier(criterion=&#x27;entropy&#x27;, n_jobs=-1, oob_score=True,\n",
       "                       verbose=1)</pre><b>In a Jupyter environment, please rerun this cell to show the HTML representation or trust the notebook. <br />On GitHub, the HTML representation is unable to render, please try loading this page with nbviewer.org.</b></div><div class=\"sk-container\" hidden><div class=\"sk-item\"><div class=\"sk-estimator sk-toggleable\"><input class=\"sk-toggleable__control sk-hidden--visually\" id=\"sk-estimator-id-11\" type=\"checkbox\" checked><label for=\"sk-estimator-id-11\" class=\"sk-toggleable__label sk-toggleable__label-arrow\">RandomForestClassifier</label><div class=\"sk-toggleable__content\"><pre>RandomForestClassifier(criterion=&#x27;entropy&#x27;, n_jobs=-1, oob_score=True,\n",
       "                       verbose=1)</pre></div></div></div></div></div>"
      ],
      "text/plain": [
       "RandomForestClassifier(criterion='entropy', n_jobs=-1, oob_score=True,\n",
       "                       verbose=1)"
      ]
     },
     "execution_count": 33,
     "metadata": {},
     "output_type": "execute_result"
    }
   ],
   "source": [
    "from sklearn.ensemble import RandomForestClassifier\n",
    "model = RandomForestClassifier(oob_score=True, n_jobs=-1, verbose=1, criterion=\"entropy\")\n",
    "model.fit(X_train, y_train)"
   ]
  },
  {
   "cell_type": "code",
   "execution_count": 34,
   "id": "8c4de5bc-a063-43de-82bc-14a24000f257",
   "metadata": {
    "tags": []
   },
   "outputs": [
    {
     "name": "stderr",
     "output_type": "stream",
     "text": [
      "[Parallel(n_jobs=100)]: Using backend ThreadingBackend with 100 concurrent workers.\n",
      "[Parallel(n_jobs=100)]: Done   2 out of 100 | elapsed:    0.0s remaining:    1.0s\n",
      "[Parallel(n_jobs=100)]: Done 100 out of 100 | elapsed:    0.0s finished\n"
     ]
    },
    {
     "data": {
      "text/plain": [
       "0.7852664576802508"
      ]
     },
     "execution_count": 34,
     "metadata": {},
     "output_type": "execute_result"
    }
   ],
   "source": [
    "model.score(X_test,y_test)"
   ]
  },
  {
   "cell_type": "code",
   "execution_count": 35,
   "id": "cd2101eb-bb58-4a1c-8164-3226f07b43cf",
   "metadata": {
    "tags": []
   },
   "outputs": [
    {
     "data": {
      "text/plain": [
       "0.7758620689655172"
      ]
     },
     "execution_count": 35,
     "metadata": {},
     "output_type": "execute_result"
    }
   ],
   "source": [
    "model = RandomForestClassifier(n_estimators=60, bootstrap=True)\n",
    "model.fit(X_train, y_train)\n",
    "model.score(X_test,y_test)"
   ]
  },
  {
   "cell_type": "code",
   "execution_count": 36,
   "id": "30c08c17-c0d1-43d6-bddd-68b840974994",
   "metadata": {
    "tags": []
   },
   "outputs": [],
   "source": [
    "y_predicted = model.predict(X_test)"
   ]
  },
  {
   "cell_type": "code",
   "execution_count": 37,
   "id": "ad6fdab6-6f3f-4c3b-bd36-6bb22de7eb3f",
   "metadata": {
    "tags": []
   },
   "outputs": [
    {
     "data": {
      "text/plain": [
       "array([[521, 130],\n",
       "       [156, 469]])"
      ]
     },
     "execution_count": 37,
     "metadata": {},
     "output_type": "execute_result"
    }
   ],
   "source": [
    "from sklearn.metrics import confusion_matrix\n",
    "cm = confusion_matrix(y_test, y_predicted)\n",
    "cm"
   ]
  },
  {
   "cell_type": "code",
   "execution_count": null,
   "id": "63f5f7c9-dece-4293-868a-93e8ee5dd364",
   "metadata": {
    "tags": []
   },
   "outputs": [],
   "source": []
  },
  {
   "cell_type": "code",
   "execution_count": null,
   "id": "482a6547-b080-4349-8e60-61436d423af4",
   "metadata": {
    "tags": []
   },
   "outputs": [],
   "source": []
  },
  {
   "cell_type": "code",
   "execution_count": 38,
   "id": "e5509903-33c7-4563-ab8a-d458277bbc08",
   "metadata": {
    "tags": []
   },
   "outputs": [],
   "source": [
    "copy = X_test.copy()\n",
    "copy[\"y_test\"] = y_test\n",
    "copy[\"y_predicted\"] = y_predicted\n",
    "copy[\"event\"] = np.array(df.iloc[copy.index][\"event\"])\n",
    "copy[\"t0\"] = np.array(df.iloc[copy.index][\"t0\"])\n",
    "copy[\"u0\"] = np.array(df.iloc[copy.index][\"u0\"])\n",
    "copy[\"tE\"] = np.array(df.iloc[copy.index][\"tE\"])"
   ]
  },
  {
   "cell_type": "code",
   "execution_count": 39,
   "id": "af94d349-d17f-4d3f-8a29-65271030fa18",
   "metadata": {
    "tags": []
   },
   "outputs": [
    {
     "data": {
      "text/plain": [
       "(Index([2279,  592, 5098,  302,  772, 6014,  790, 3327, 6123, 5639,\n",
       "        ...\n",
       "        2347, 3051, 2815, 2840, 5635, 3694,  321, 4707, 1355, 4532],\n",
       "       dtype='int64', length=1276),\n",
       " RangeIndex(start=0, stop=6376, step=1))"
      ]
     },
     "execution_count": 39,
     "metadata": {},
     "output_type": "execute_result"
    }
   ],
   "source": [
    "copy.index, df.index"
   ]
  },
  {
   "cell_type": "code",
   "execution_count": null,
   "id": "22468efb-1b45-487d-b444-547ba818f458",
   "metadata": {
    "tags": []
   },
   "outputs": [],
   "source": []
  },
  {
   "cell_type": "code",
   "execution_count": null,
   "id": "f5ebbbf1-7048-4441-9336-820f1f48e08b",
   "metadata": {
    "tags": []
   },
   "outputs": [],
   "source": []
  },
  {
   "cell_type": "code",
   "execution_count": 40,
   "id": "ec4c6765-ff5a-40d9-9e86-c0d214a6c004",
   "metadata": {
    "tags": []
   },
   "outputs": [
    {
     "data": {
      "text/plain": [
       "array(['low_noise_mlevent_new', 'low_noise_not_mlevent'], dtype=object)"
      ]
     },
     "execution_count": 40,
     "metadata": {},
     "output_type": "execute_result"
    }
   ],
   "source": [
    "np.unique(df[\"event\"])"
   ]
  },
  {
   "cell_type": "code",
   "execution_count": 17,
   "id": "703161a7-111f-4faf-8fd4-391268e4f4f6",
   "metadata": {
    "tags": []
   },
   "outputs": [
    {
     "data": {
      "text/plain": [
       "Text(58.222222222222214, 0.5, 'Truth')"
      ]
     },
     "execution_count": 17,
     "metadata": {},
     "output_type": "execute_result"
    },
    {
     "data": {
      "image/png": "[encoded data removed]",
      "text/plain": [
       "<Figure size 700x500 with 2 Axes>"
      ]
     },
     "metadata": {},
     "output_type": "display_data"
    }
   ],
   "source": [
    "noise_mlevent_orig = copy.iloc[np.where(\"noise_mlevent_new\"==copy[\"event\"])]\n",
    "mynext = copy.iloc[np.where(\"noise_mlevent_orig\"==copy[\"event\"])]\n",
    "\n",
    "cm = confusion_matrix(noise_mlevent_orig[\"y_test\"], noise_mlevent_orig[\"y_predicted\"])\n",
    "cm2 = confusion_matrix(mynext[\"y_test\"], mynext[\"y_predicted\"])\n",
    "cm = cm + cm2\n",
    "\n",
    "%matplotlib inline\n",
    "import matplotlib.pyplot as plt\n",
    "import seaborn as sn\n",
    "plt.figure(figsize=(7,5))\n",
    "import seaborn as sns\n",
    "sns.heatmap(cm, annot=True, fmt=\"g\")\n",
    "plt.xlabel('Predicted')\n",
    "plt.ylabel('Truth')"
   ]
  },
  {
   "cell_type": "code",
   "execution_count": null,
   "id": "c99ff4ac-995b-4c46-a761-3db2d7408607",
   "metadata": {},
   "outputs": [],
   "source": []
  },
  {
   "cell_type": "code",
   "execution_count": 17,
   "id": "fe46e702-21b5-452c-bac4-367d956f2e99",
   "metadata": {
    "tags": []
   },
   "outputs": [
    {
     "data": {
      "text/plain": [
       "Text(58.222222222222214, 0.5, 'Truth')"
      ]
     },
     "execution_count": 17,
     "metadata": {},
     "output_type": "execute_result"
    },
    {
     "data": {
      "image/png": "[encoded data removed]",
      "text/plain": [
       "<Figure size 700x500 with 2 Axes>"
      ]
     },
     "metadata": {},
     "output_type": "display_data"
    }
   ],
   "source": [
    "%matplotlib inline\n",
    "import matplotlib.pyplot as plt\n",
    "import seaborn as sn\n",
    "plt.figure(figsize=(7,5))\n",
    "import seaborn as sns\n",
    "sns.heatmap(cm, annot=True, fmt=\"g\")\n",
    "plt.xlabel('Predicted')\n",
    "plt.ylabel('Truth')"
   ]
  },
  {
   "cell_type": "code",
   "execution_count": 2,
   "id": "fb05c860-04f0-431f-ba84-b574e09c30c6",
   "metadata": {
    "tags": []
   },
   "outputs": [],
   "source": [
    "import numpy as np\n",
    "import matplotlib.pyplot as plt"
   ]
  },
  {
   "cell_type": "code",
   "execution_count": 3,
   "id": "615573a3-cb28-4a3e-8db2-0e39ba6cd7fb",
   "metadata": {
    "tags": []
   },
   "outputs": [],
   "source": [
    "def pspl_model(mjd, f, u0, tE, t0):\n",
    "    x = mjd\n",
    "    t = x - np.min(x) - (np.max(x) - np.min(x))/2 # reformat the time to have the middle at 0\n",
    "    u = (u0**2 + ((t - t0)/tE)**2)**0.5 # find u(t)\n",
    "    A = (u**2 + 2)/(u*(u**2 + 4)**0.5) # find A(t)\n",
    "\n",
    "    return mjd, A*f, A\n",
    "\n",
    "def getam(numbins, f, x):\n",
    "    # numbins = 4\n",
    "    numbins = numbins + 1\n",
    "    bins = np.linspace(min(f), max(f)+0.001, numbins)\n",
    "    am = np.zeros((numbins, numbins))\n",
    "    distm = np.zeros((numbins, numbins))\n",
    "    countm = np.zeros((numbins, numbins))\n",
    "    for counti, i in enumerate(f[:]):\n",
    "        ibin = np.where(bins>i)[0][0]\n",
    "        for countj, j in enumerate(f[counti:]):\n",
    "            if counti==countj:\n",
    "                continue\n",
    "            jbin = np.where(bins>j)[0][0]\n",
    "            countm[ibin-1, jbin-1] += 1\n",
    "            distm[ibin-1, jbin-1] += abs(x[counti] - x[countj])\n",
    "            am[ibin-1, jbin-1] += 1/abs(x[counti] - x[countj])\n",
    "\n",
    "    return countm[:-1,:-1], distm[:-1,:-1], am[:-1,:-1]"
   ]
  },
  {
   "cell_type": "code",
   "execution_count": 81,
   "id": "8a02d047-253d-40e9-93c5-10ccfce35f69",
   "metadata": {
    "tags": []
   },
   "outputs": [
    {
     "data": {
      "text/plain": [
       "array([45, 31, 41, 24,  5, 40,  0, 48, 44, 15, 13,  8,  6, 27, 21,  2,  1,\n",
       "       46, 42, 10, 28, 32, 16])"
      ]
     },
     "execution_count": 81,
     "metadata": {},
     "output_type": "execute_result"
    }
   ],
   "source": [
    "numdata = np.random.randint(10, len(myt))\n",
    "indexdatas = np.random.choice([i for i in range(len(myt))], size=numdata, replace=False)\n",
    "myt = myt[indexdatas]\n",
    "f = f[indexdatas]\n",
    "indexdatas"
   ]
  },
  {
   "cell_type": "code",
   "execution_count": null,
   "id": "f8eb6af1-ab58-4967-8345-b2409d096536",
   "metadata": {},
   "outputs": [],
   "source": []
  },
  {
   "cell_type": "code",
   "execution_count": 82,
   "id": "6830df64-01c0-4188-aa4c-fd7957cb554d",
   "metadata": {
    "scrolled": true,
    "tags": []
   },
   "outputs": [
    {
     "ename": "IndexError",
     "evalue": "index 1000 is out of bounds for axis 0 with size 1000",
     "output_type": "error",
     "traceback": [
      "\u001b[0;31m---------------------------------------------------------------------------\u001b[0m",
      "\u001b[0;31mIndexError\u001b[0m                                Traceback (most recent call last)",
      "Cell \u001b[0;32mIn[82], line 30\u001b[0m\n\u001b[1;32m     28\u001b[0m pam \u001b[38;5;241m=\u001b[39m pam\u001b[38;5;241m.\u001b[39mflatten()\n\u001b[1;32m     29\u001b[0m pam \u001b[38;5;241m=\u001b[39m np\u001b[38;5;241m.\u001b[39mappend(pam, \u001b[38;5;241m1\u001b[39m)\n\u001b[0;32m---> 30\u001b[0m dataset[\u001b[38;5;28mint\u001b[39m(i \u001b[38;5;241m+\u001b[39m dataset\u001b[38;5;241m.\u001b[39mshape[\u001b[38;5;241m0\u001b[39m]\u001b[38;5;241m/\u001b[39m\u001b[38;5;241m2\u001b[39m)] \u001b[38;5;241m=\u001b[39m pam\n",
      "\u001b[0;31mIndexError\u001b[0m: index 1000 is out of bounds for axis 0 with size 1000"
     ]
    }
   ],
   "source": [
    "dataset = np.zeros((1000, 50))\n",
    "\n",
    "for i in range(dataset.shape[0]):\n",
    "    numbins = 7\n",
    "    myt = np.linspace(53680, 53980)\n",
    "    # f = 7000 + np.random.uniform(-5000, 5000, len(myt))\n",
    "    f = 7000 + np.random.uniform(-100, 100, len(myt))\n",
    "    \n",
    "    numdata = np.random.randint(10, len(myt))\n",
    "    indexdatas = np.random.choice([i for i in range(len(myt))], size=numdata, replace=False)\n",
    "    myt = myt[indexdatas]\n",
    "    f = f[indexdatas]\n",
    "\n",
    "    # plt.scatter(myt, f)\n",
    "\n",
    "    _, _, am = getam(numbins, f/np.median(f), myt)\n",
    "    am = am.flatten()\n",
    "    am = np.append(am, 0)\n",
    "    dataset[i] = am\n",
    "\n",
    "    u0 = round(np.random.uniform(0.1, 1), 2)\n",
    "    tE = round(np.random.uniform(50, max(myt)-min(myt)))\n",
    "    t0 = 0\n",
    "\n",
    "    newmyt, newf, _ = pspl_model(myt, f, u0, tE, t0)\n",
    "\n",
    "    _, _, pam = getam(numbins, newf/np.median(newf), newmyt)\n",
    "    pam = pam.flatten()\n",
    "    pam = np.append(pam, 1)\n",
    "    dataset[int(i + dataset.shape[0]/2)] = pam\n",
    "\n",
    "    # plt.scatter(newmyt, newf)\n",
    "    # plt.show()"
   ]
  },
  {
   "cell_type": "code",
   "execution_count": 83,
   "id": "853b320c-cf70-4fe0-be03-5eeaa5c06331",
   "metadata": {
    "tags": []
   },
   "outputs": [
    {
     "data": {
      "text/plain": [
       "(1000, 50)"
      ]
     },
     "execution_count": 83,
     "metadata": {},
     "output_type": "execute_result"
    }
   ],
   "source": [
    "dataset.shape"
   ]
  },
  {
   "cell_type": "code",
   "execution_count": 84,
   "id": "ce1e1bee-4dfd-453b-b493-1080b6f25f81",
   "metadata": {
    "tags": []
   },
   "outputs": [
    {
     "data": {
      "text/plain": [
       "array([[0.6365164 , 0.42345344, 0.5466012 , ..., 0.06533333, 0.0257265 ,\n",
       "        0.        ],\n",
       "       [0.25721187, 0.42988195, 0.03945926, ..., 0.01799034, 0.11342593,\n",
       "        0.        ],\n",
       "       [0.31674423, 0.48961111, 0.13035285, ..., 0.45401932, 0.29676142,\n",
       "        0.        ],\n",
       "       ...,\n",
       "       [0.92922415, 0.090125  , 0.        , ..., 0.        , 0.01020833,\n",
       "        1.        ],\n",
       "       [0.04035138, 0.        , 0.01997323, ..., 0.08797076, 0.25239417,\n",
       "        1.        ],\n",
       "       [0.41479319, 0.17374368, 0.40762547, ..., 0.12522222, 0.57183882,\n",
       "        1.        ]])"
      ]
     },
     "execution_count": 84,
     "metadata": {},
     "output_type": "execute_result"
    }
   ],
   "source": [
    "dataset"
   ]
  },
  {
   "cell_type": "code",
   "execution_count": 85,
   "id": "231765f2-9aeb-40ab-8456-a7475594be5d",
   "metadata": {
    "tags": []
   },
   "outputs": [
    {
     "data": {
      "text/html": [
       "<div>\n",
       "<style scoped>\n",
       "    .dataframe tbody tr th:only-of-type {\n",
       "        vertical-align: middle;\n",
       "    }\n",
       "\n",
       "    .dataframe tbody tr th {\n",
       "        vertical-align: top;\n",
       "    }\n",
       "\n",
       "    .dataframe thead th {\n",
       "        text-align: right;\n",
       "    }\n",
       "</style>\n",
       "<table border=\"1\" class=\"dataframe\">\n",
       "  <thead>\n",
       "    <tr style=\"text-align: right;\">\n",
       "      <th></th>\n",
       "      <th>index</th>\n",
       "      <th>0</th>\n",
       "      <th>1</th>\n",
       "      <th>2</th>\n",
       "      <th>3</th>\n",
       "      <th>4</th>\n",
       "      <th>5</th>\n",
       "      <th>6</th>\n",
       "      <th>7</th>\n",
       "      <th>8</th>\n",
       "      <th>...</th>\n",
       "      <th>40</th>\n",
       "      <th>41</th>\n",
       "      <th>42</th>\n",
       "      <th>43</th>\n",
       "      <th>44</th>\n",
       "      <th>45</th>\n",
       "      <th>46</th>\n",
       "      <th>47</th>\n",
       "      <th>48</th>\n",
       "      <th>target</th>\n",
       "    </tr>\n",
       "  </thead>\n",
       "  <tbody>\n",
       "    <tr>\n",
       "      <th>0</th>\n",
       "      <td>709</td>\n",
       "      <td>0.377868</td>\n",
       "      <td>0.170336</td>\n",
       "      <td>0.281340</td>\n",
       "      <td>0.249173</td>\n",
       "      <td>0.347685</td>\n",
       "      <td>0.525274</td>\n",
       "      <td>0.716409</td>\n",
       "      <td>0.697375</td>\n",
       "      <td>0.260015</td>\n",
       "      <td>...</td>\n",
       "      <td>1.522411</td>\n",
       "      <td>0.746734</td>\n",
       "      <td>0.462144</td>\n",
       "      <td>0.095668</td>\n",
       "      <td>0.741992</td>\n",
       "      <td>0.347881</td>\n",
       "      <td>0.226442</td>\n",
       "      <td>0.475624</td>\n",
       "      <td>0.807853</td>\n",
       "      <td>1.0</td>\n",
       "    </tr>\n",
       "    <tr>\n",
       "      <th>1</th>\n",
       "      <td>863</td>\n",
       "      <td>0.021000</td>\n",
       "      <td>0.000000</td>\n",
       "      <td>0.016471</td>\n",
       "      <td>0.033079</td>\n",
       "      <td>0.000000</td>\n",
       "      <td>0.014848</td>\n",
       "      <td>0.039794</td>\n",
       "      <td>0.000000</td>\n",
       "      <td>0.000000</td>\n",
       "      <td>...</td>\n",
       "      <td>0.040833</td>\n",
       "      <td>0.090263</td>\n",
       "      <td>0.138704</td>\n",
       "      <td>0.000000</td>\n",
       "      <td>0.104579</td>\n",
       "      <td>0.535144</td>\n",
       "      <td>0.020417</td>\n",
       "      <td>0.045231</td>\n",
       "      <td>0.210789</td>\n",
       "      <td>1.0</td>\n",
       "    </tr>\n",
       "    <tr>\n",
       "      <th>2</th>\n",
       "      <td>219</td>\n",
       "      <td>0.085955</td>\n",
       "      <td>0.000000</td>\n",
       "      <td>0.064198</td>\n",
       "      <td>0.023333</td>\n",
       "      <td>0.071812</td>\n",
       "      <td>0.123395</td>\n",
       "      <td>0.081667</td>\n",
       "      <td>0.061635</td>\n",
       "      <td>0.025128</td>\n",
       "      <td>...</td>\n",
       "      <td>0.213385</td>\n",
       "      <td>0.015477</td>\n",
       "      <td>0.046278</td>\n",
       "      <td>0.000000</td>\n",
       "      <td>0.008167</td>\n",
       "      <td>0.000000</td>\n",
       "      <td>0.054444</td>\n",
       "      <td>0.054444</td>\n",
       "      <td>0.163333</td>\n",
       "      <td>0.0</td>\n",
       "    </tr>\n",
       "    <tr>\n",
       "      <th>3</th>\n",
       "      <td>195</td>\n",
       "      <td>0.198564</td>\n",
       "      <td>0.124515</td>\n",
       "      <td>0.000000</td>\n",
       "      <td>0.184811</td>\n",
       "      <td>0.325588</td>\n",
       "      <td>0.168778</td>\n",
       "      <td>0.054444</td>\n",
       "      <td>0.063449</td>\n",
       "      <td>0.055806</td>\n",
       "      <td>...</td>\n",
       "      <td>0.108889</td>\n",
       "      <td>0.040833</td>\n",
       "      <td>0.064167</td>\n",
       "      <td>0.011667</td>\n",
       "      <td>0.000000</td>\n",
       "      <td>0.045104</td>\n",
       "      <td>0.210673</td>\n",
       "      <td>0.007424</td>\n",
       "      <td>0.040833</td>\n",
       "      <td>0.0</td>\n",
       "    </tr>\n",
       "    <tr>\n",
       "      <th>4</th>\n",
       "      <td>734</td>\n",
       "      <td>1.218922</td>\n",
       "      <td>0.140860</td>\n",
       "      <td>0.824318</td>\n",
       "      <td>1.089929</td>\n",
       "      <td>0.079070</td>\n",
       "      <td>0.891494</td>\n",
       "      <td>0.502235</td>\n",
       "      <td>1.180529</td>\n",
       "      <td>0.785009</td>\n",
       "      <td>...</td>\n",
       "      <td>0.777797</td>\n",
       "      <td>0.382972</td>\n",
       "      <td>0.720393</td>\n",
       "      <td>0.506513</td>\n",
       "      <td>0.455783</td>\n",
       "      <td>0.511881</td>\n",
       "      <td>0.092317</td>\n",
       "      <td>1.123774</td>\n",
       "      <td>0.541008</td>\n",
       "      <td>1.0</td>\n",
       "    </tr>\n",
       "    <tr>\n",
       "      <th>...</th>\n",
       "      <td>...</td>\n",
       "      <td>...</td>\n",
       "      <td>...</td>\n",
       "      <td>...</td>\n",
       "      <td>...</td>\n",
       "      <td>...</td>\n",
       "      <td>...</td>\n",
       "      <td>...</td>\n",
       "      <td>...</td>\n",
       "      <td>...</td>\n",
       "      <td>...</td>\n",
       "      <td>...</td>\n",
       "      <td>...</td>\n",
       "      <td>...</td>\n",
       "      <td>...</td>\n",
       "      <td>...</td>\n",
       "      <td>...</td>\n",
       "      <td>...</td>\n",
       "      <td>...</td>\n",
       "      <td>...</td>\n",
       "      <td>...</td>\n",
       "    </tr>\n",
       "    <tr>\n",
       "      <th>995</th>\n",
       "      <td>627</td>\n",
       "      <td>0.060711</td>\n",
       "      <td>0.108889</td>\n",
       "      <td>0.028041</td>\n",
       "      <td>0.100333</td>\n",
       "      <td>0.000000</td>\n",
       "      <td>0.000000</td>\n",
       "      <td>0.038442</td>\n",
       "      <td>0.000000</td>\n",
       "      <td>0.006806</td>\n",
       "      <td>...</td>\n",
       "      <td>0.023333</td>\n",
       "      <td>0.063424</td>\n",
       "      <td>0.023333</td>\n",
       "      <td>0.010889</td>\n",
       "      <td>0.008596</td>\n",
       "      <td>0.007778</td>\n",
       "      <td>0.000000</td>\n",
       "      <td>0.000000</td>\n",
       "      <td>0.039667</td>\n",
       "      <td>1.0</td>\n",
       "    </tr>\n",
       "    <tr>\n",
       "      <th>996</th>\n",
       "      <td>153</td>\n",
       "      <td>0.220851</td>\n",
       "      <td>0.048604</td>\n",
       "      <td>0.036379</td>\n",
       "      <td>0.007424</td>\n",
       "      <td>0.033425</td>\n",
       "      <td>0.054444</td>\n",
       "      <td>0.206789</td>\n",
       "      <td>0.181049</td>\n",
       "      <td>0.082317</td>\n",
       "      <td>...</td>\n",
       "      <td>0.348376</td>\n",
       "      <td>0.052669</td>\n",
       "      <td>0.070643</td>\n",
       "      <td>0.123426</td>\n",
       "      <td>0.020846</td>\n",
       "      <td>0.051722</td>\n",
       "      <td>0.154983</td>\n",
       "      <td>0.117635</td>\n",
       "      <td>0.088085</td>\n",
       "      <td>0.0</td>\n",
       "    </tr>\n",
       "    <tr>\n",
       "      <th>997</th>\n",
       "      <td>751</td>\n",
       "      <td>1.745905</td>\n",
       "      <td>1.681615</td>\n",
       "      <td>0.830951</td>\n",
       "      <td>0.685920</td>\n",
       "      <td>0.812157</td>\n",
       "      <td>0.859638</td>\n",
       "      <td>0.727312</td>\n",
       "      <td>0.486988</td>\n",
       "      <td>0.635778</td>\n",
       "      <td>...</td>\n",
       "      <td>0.197330</td>\n",
       "      <td>0.350095</td>\n",
       "      <td>0.777871</td>\n",
       "      <td>0.751412</td>\n",
       "      <td>0.122370</td>\n",
       "      <td>0.083236</td>\n",
       "      <td>0.325143</td>\n",
       "      <td>0.200243</td>\n",
       "      <td>0.288474</td>\n",
       "      <td>1.0</td>\n",
       "    </tr>\n",
       "    <tr>\n",
       "      <th>998</th>\n",
       "      <td>159</td>\n",
       "      <td>0.462754</td>\n",
       "      <td>0.129160</td>\n",
       "      <td>0.363989</td>\n",
       "      <td>0.097093</td>\n",
       "      <td>0.679736</td>\n",
       "      <td>0.322092</td>\n",
       "      <td>0.944008</td>\n",
       "      <td>0.011667</td>\n",
       "      <td>0.005104</td>\n",
       "      <td>...</td>\n",
       "      <td>0.345267</td>\n",
       "      <td>0.841555</td>\n",
       "      <td>0.271535</td>\n",
       "      <td>0.171768</td>\n",
       "      <td>0.052299</td>\n",
       "      <td>0.055036</td>\n",
       "      <td>0.356845</td>\n",
       "      <td>0.073712</td>\n",
       "      <td>1.040811</td>\n",
       "      <td>0.0</td>\n",
       "    </tr>\n",
       "    <tr>\n",
       "      <th>999</th>\n",
       "      <td>824</td>\n",
       "      <td>0.498608</td>\n",
       "      <td>0.142957</td>\n",
       "      <td>0.062518</td>\n",
       "      <td>0.092012</td>\n",
       "      <td>0.000000</td>\n",
       "      <td>0.212807</td>\n",
       "      <td>0.132514</td>\n",
       "      <td>0.027319</td>\n",
       "      <td>0.114333</td>\n",
       "      <td>...</td>\n",
       "      <td>0.172652</td>\n",
       "      <td>0.110171</td>\n",
       "      <td>0.204415</td>\n",
       "      <td>0.114064</td>\n",
       "      <td>0.188421</td>\n",
       "      <td>0.093097</td>\n",
       "      <td>0.000000</td>\n",
       "      <td>0.501961</td>\n",
       "      <td>0.336307</td>\n",
       "      <td>1.0</td>\n",
       "    </tr>\n",
       "  </tbody>\n",
       "</table>\n",
       "<p>1000 rows × 51 columns</p>\n",
       "</div>"
      ],
      "text/plain": [
       "     index         0         1         2         3         4         5   \n",
       "0      709  0.377868  0.170336  0.281340  0.249173  0.347685  0.525274  \\\n",
       "1      863  0.021000  0.000000  0.016471  0.033079  0.000000  0.014848   \n",
       "2      219  0.085955  0.000000  0.064198  0.023333  0.071812  0.123395   \n",
       "3      195  0.198564  0.124515  0.000000  0.184811  0.325588  0.168778   \n",
       "4      734  1.218922  0.140860  0.824318  1.089929  0.079070  0.891494   \n",
       "..     ...       ...       ...       ...       ...       ...       ...   \n",
       "995    627  0.060711  0.108889  0.028041  0.100333  0.000000  0.000000   \n",
       "996    153  0.220851  0.048604  0.036379  0.007424  0.033425  0.054444   \n",
       "997    751  1.745905  1.681615  0.830951  0.685920  0.812157  0.859638   \n",
       "998    159  0.462754  0.129160  0.363989  0.097093  0.679736  0.322092   \n",
       "999    824  0.498608  0.142957  0.062518  0.092012  0.000000  0.212807   \n",
       "\n",
       "            6         7         8  ...        40        41        42   \n",
       "0    0.716409  0.697375  0.260015  ...  1.522411  0.746734  0.462144  \\\n",
       "1    0.039794  0.000000  0.000000  ...  0.040833  0.090263  0.138704   \n",
       "2    0.081667  0.061635  0.025128  ...  0.213385  0.015477  0.046278   \n",
       "3    0.054444  0.063449  0.055806  ...  0.108889  0.040833  0.064167   \n",
       "4    0.502235  1.180529  0.785009  ...  0.777797  0.382972  0.720393   \n",
       "..        ...       ...       ...  ...       ...       ...       ...   \n",
       "995  0.038442  0.000000  0.006806  ...  0.023333  0.063424  0.023333   \n",
       "996  0.206789  0.181049  0.082317  ...  0.348376  0.052669  0.070643   \n",
       "997  0.727312  0.486988  0.635778  ...  0.197330  0.350095  0.777871   \n",
       "998  0.944008  0.011667  0.005104  ...  0.345267  0.841555  0.271535   \n",
       "999  0.132514  0.027319  0.114333  ...  0.172652  0.110171  0.204415   \n",
       "\n",
       "           43        44        45        46        47        48  target  \n",
       "0    0.095668  0.741992  0.347881  0.226442  0.475624  0.807853     1.0  \n",
       "1    0.000000  0.104579  0.535144  0.020417  0.045231  0.210789     1.0  \n",
       "2    0.000000  0.008167  0.000000  0.054444  0.054444  0.163333     0.0  \n",
       "3    0.011667  0.000000  0.045104  0.210673  0.007424  0.040833     0.0  \n",
       "4    0.506513  0.455783  0.511881  0.092317  1.123774  0.541008     1.0  \n",
       "..        ...       ...       ...       ...       ...       ...     ...  \n",
       "995  0.010889  0.008596  0.007778  0.000000  0.000000  0.039667     1.0  \n",
       "996  0.123426  0.020846  0.051722  0.154983  0.117635  0.088085     0.0  \n",
       "997  0.751412  0.122370  0.083236  0.325143  0.200243  0.288474     1.0  \n",
       "998  0.171768  0.052299  0.055036  0.356845  0.073712  1.040811     0.0  \n",
       "999  0.114064  0.188421  0.093097  0.000000  0.501961  0.336307     1.0  \n",
       "\n",
       "[1000 rows x 51 columns]"
      ]
     },
     "execution_count": 85,
     "metadata": {},
     "output_type": "execute_result"
    }
   ],
   "source": [
    "newdf = pd.DataFrame(dataset)\n",
    "newdf = newdf.rename(columns={49:\"target\"})\n",
    "newdf = newdf.sample(frac = 1)\n",
    "newdf = newdf.reset_index()\n",
    "newdf"
   ]
  },
  {
   "cell_type": "code",
   "execution_count": 86,
   "id": "fa0b9a9d-e391-4588-b808-ef176de94242",
   "metadata": {},
   "outputs": [],
   "source": [
    "x = newdf.drop(['target', \"index\"],axis='columns')\n",
    "y = newdf[\"target\"]"
   ]
  },
  {
   "cell_type": "code",
   "execution_count": 87,
   "id": "e1152b62-130a-441c-a002-906a9efb9653",
   "metadata": {
    "tags": []
   },
   "outputs": [],
   "source": [
    "from sklearn.model_selection import train_test_split\n",
    "X_train, X_test, y_train, y_test = train_test_split(x,y,test_size=0.2)"
   ]
  },
  {
   "cell_type": "code",
   "execution_count": 88,
   "id": "107d9afa-006d-4390-8e5f-e3d5d6ab1250",
   "metadata": {
    "tags": []
   },
   "outputs": [
    {
     "name": "stderr",
     "output_type": "stream",
     "text": [
      "[Parallel(n_jobs=-1)]: Using backend ThreadingBackend with 256 concurrent workers.\n",
      "[Parallel(n_jobs=-1)]: Done  94 out of 100 | elapsed:    0.2s remaining:    0.0s\n",
      "[Parallel(n_jobs=-1)]: Done 100 out of 100 | elapsed:    0.2s finished\n"
     ]
    },
    {
     "data": {
      "text/html": [
       "<style>#sk-container-id-11 {color: black;}#sk-container-id-11 pre{padding: 0;}#sk-container-id-11 div.sk-toggleable {background-color: white;}#sk-container-id-11 label.sk-toggleable__label {cursor: pointer;display: block;width: 100%;margin-bottom: 0;padding: 0.3em;box-sizing: border-box;text-align: center;}#sk-container-id-11 label.sk-toggleable__label-arrow:before {content: \"▸\";float: left;margin-right: 0.25em;color: #696969;}#sk-container-id-11 label.sk-toggleable__label-arrow:hover:before {color: black;}#sk-container-id-11 div.sk-estimator:hover label.sk-toggleable__label-arrow:before {color: black;}#sk-container-id-11 div.sk-toggleable__content {max-height: 0;max-width: 0;overflow: hidden;text-align: left;background-color: #f0f8ff;}#sk-container-id-11 div.sk-toggleable__content pre {margin: 0.2em;color: black;border-radius: 0.25em;background-color: #f0f8ff;}#sk-container-id-11 input.sk-toggleable__control:checked~div.sk-toggleable__content {max-height: 200px;max-width: 100%;overflow: auto;}#sk-container-id-11 input.sk-toggleable__control:checked~label.sk-toggleable__label-arrow:before {content: \"▾\";}#sk-container-id-11 div.sk-estimator input.sk-toggleable__control:checked~label.sk-toggleable__label {background-color: #d4ebff;}#sk-container-id-11 div.sk-label input.sk-toggleable__control:checked~label.sk-toggleable__label {background-color: #d4ebff;}#sk-container-id-11 input.sk-hidden--visually {border: 0;clip: rect(1px 1px 1px 1px);clip: rect(1px, 1px, 1px, 1px);height: 1px;margin: -1px;overflow: hidden;padding: 0;position: absolute;width: 1px;}#sk-container-id-11 div.sk-estimator {font-family: monospace;background-color: #f0f8ff;border: 1px dotted black;border-radius: 0.25em;box-sizing: border-box;margin-bottom: 0.5em;}#sk-container-id-11 div.sk-estimator:hover {background-color: #d4ebff;}#sk-container-id-11 div.sk-parallel-item::after {content: \"\";width: 100%;border-bottom: 1px solid gray;flex-grow: 1;}#sk-container-id-11 div.sk-label:hover label.sk-toggleable__label {background-color: #d4ebff;}#sk-container-id-11 div.sk-serial::before {content: \"\";position: absolute;border-left: 1px solid gray;box-sizing: border-box;top: 0;bottom: 0;left: 50%;z-index: 0;}#sk-container-id-11 div.sk-serial {display: flex;flex-direction: column;align-items: center;background-color: white;padding-right: 0.2em;padding-left: 0.2em;position: relative;}#sk-container-id-11 div.sk-item {position: relative;z-index: 1;}#sk-container-id-11 div.sk-parallel {display: flex;align-items: stretch;justify-content: center;background-color: white;position: relative;}#sk-container-id-11 div.sk-item::before, #sk-container-id-11 div.sk-parallel-item::before {content: \"\";position: absolute;border-left: 1px solid gray;box-sizing: border-box;top: 0;bottom: 0;left: 50%;z-index: -1;}#sk-container-id-11 div.sk-parallel-item {display: flex;flex-direction: column;z-index: 1;position: relative;background-color: white;}#sk-container-id-11 div.sk-parallel-item:first-child::after {align-self: flex-end;width: 50%;}#sk-container-id-11 div.sk-parallel-item:last-child::after {align-self: flex-start;width: 50%;}#sk-container-id-11 div.sk-parallel-item:only-child::after {width: 0;}#sk-container-id-11 div.sk-dashed-wrapped {border: 1px dashed gray;margin: 0 0.4em 0.5em 0.4em;box-sizing: border-box;padding-bottom: 0.4em;background-color: white;}#sk-container-id-11 div.sk-label label {font-family: monospace;font-weight: bold;display: inline-block;line-height: 1.2em;}#sk-container-id-11 div.sk-label-container {text-align: center;}#sk-container-id-11 div.sk-container {/* jupyter's `normalize.less` sets `[hidden] { display: none; }` but bootstrap.min.css set `[hidden] { display: none !important; }` so we also need the `!important` here to be able to override the default hidden behavior on the sphinx rendered scikit-learn.org. See: https://github.com/scikit-learn/scikit-learn/issues/21755 */display: inline-block !important;position: relative;}#sk-container-id-11 div.sk-text-repr-fallback {display: none;}</style><div id=\"sk-container-id-11\" class=\"sk-top-container\"><div class=\"sk-text-repr-fallback\"><pre>RandomForestClassifier(criterion=&#x27;entropy&#x27;, n_jobs=-1, oob_score=True,\n",
       "                       verbose=1)</pre><b>In a Jupyter environment, please rerun this cell to show the HTML representation or trust the notebook. <br />On GitHub, the HTML representation is unable to render, please try loading this page with nbviewer.org.</b></div><div class=\"sk-container\" hidden><div class=\"sk-item\"><div class=\"sk-estimator sk-toggleable\"><input class=\"sk-toggleable__control sk-hidden--visually\" id=\"sk-estimator-id-11\" type=\"checkbox\" checked><label for=\"sk-estimator-id-11\" class=\"sk-toggleable__label sk-toggleable__label-arrow\">RandomForestClassifier</label><div class=\"sk-toggleable__content\"><pre>RandomForestClassifier(criterion=&#x27;entropy&#x27;, n_jobs=-1, oob_score=True,\n",
       "                       verbose=1)</pre></div></div></div></div></div>"
      ],
      "text/plain": [
       "RandomForestClassifier(criterion='entropy', n_jobs=-1, oob_score=True,\n",
       "                       verbose=1)"
      ]
     },
     "execution_count": 88,
     "metadata": {},
     "output_type": "execute_result"
    }
   ],
   "source": [
    "from sklearn.ensemble import RandomForestClassifier\n",
    "model = RandomForestClassifier(oob_score=True, n_jobs=-1, verbose=1, criterion=\"entropy\")\n",
    "model.fit(X_train, y_train)"
   ]
  },
  {
   "cell_type": "code",
   "execution_count": 89,
   "id": "fda6298f-2d45-49e7-b229-9a136be13e52",
   "metadata": {
    "tags": []
   },
   "outputs": [
    {
     "name": "stderr",
     "output_type": "stream",
     "text": [
      "[Parallel(n_jobs=100)]: Using backend ThreadingBackend with 100 concurrent workers.\n",
      "[Parallel(n_jobs=100)]: Done   2 out of 100 | elapsed:    0.0s remaining:    1.1s\n",
      "[Parallel(n_jobs=100)]: Done 100 out of 100 | elapsed:    0.0s finished\n"
     ]
    },
    {
     "data": {
      "text/plain": [
       "0.72"
      ]
     },
     "execution_count": 89,
     "metadata": {},
     "output_type": "execute_result"
    }
   ],
   "source": [
    "model.score(X_test,y_test)"
   ]
  },
  {
   "cell_type": "code",
   "execution_count": null,
   "id": "d0792786-45d1-468b-a422-caebe766e771",
   "metadata": {},
   "outputs": [],
   "source": []
  }
 ],
 "metadata": {
  "kernelspec": {
   "display_name": "myenv",
   "language": "python",
   "name": "myenv"
  },
  "language_info": {
   "codemirror_mode": {
    "name": "ipython",
    "version": 3
   },
   "file_extension": ".py",
   "mimetype": "text/x-python",
   "name": "python",
   "nbconvert_exporter": "python",
   "pygments_lexer": "ipython3",
   "version": "3.8.16"
  }
 },
 "nbformat": 4,
 "nbformat_minor": 5
}
