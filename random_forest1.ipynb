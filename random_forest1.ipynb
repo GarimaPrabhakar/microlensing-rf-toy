{
 "cells": [
  {
   "cell_type": "code",
   "execution_count": 1,
   "id": "fc503de3-6cdc-42cd-a740-5cf5e955f0c3",
   "metadata": {
    "tags": []
   },
   "outputs": [],
   "source": [
    "import pandas as pd\n",
    "import numpy as np"
   ]
  },
  {
   "cell_type": "code",
   "execution_count": 30,
   "id": "45f48c6d-3b0f-405f-9262-0db706d941a9",
   "metadata": {
    "scrolled": true,
    "tags": []
   },
   "outputs": [],
   "source": [
    "# !conda install scikit-learn --y\n",
    "cols = []\n",
    "cols.append('fn')\n",
    "cols.append('event')\n",
    "cols.append('tE')\n",
    "cols.append('t0')\n",
    "cols.append('u0')\n",
    "for i in range(49):\n",
    "    cols.append(i)"
   ]
  },
  {
   "cell_type": "code",
   "execution_count": 74,
   "id": "60727abb-8bda-44bb-931b-94812610f1f2",
   "metadata": {
    "tags": []
   },
   "outputs": [
    {
     "data": {
      "text/plain": [
       "RangeIndex(start=0, stop=22400, step=1)"
      ]
     },
     "execution_count": 74,
     "metadata": {},
     "output_type": "execute_result"
    }
   ],
   "source": [
    "dfml = pd.read_csv(\"trainingset/microlensing.csv\", names=cols)\n",
    "dfmlnot = pd.read_csv(\"trainingset/not_microlensing.csv\", names=cols)\n",
    "\n",
    "dfml[\"target\"] = 1\n",
    "dfmlnot[\"target\"] = 0\n",
    "\n",
    "df = pd.concat([dfml, dfmlnot], axis=0)\n",
    "df = df.sample(frac = 1).reset_index()\n",
    "\n",
    "df.index"
   ]
  },
  {
   "cell_type": "code",
   "execution_count": 81,
   "id": "136966cf-3d9d-496c-8d5a-987308c18641",
   "metadata": {
    "tags": []
   },
   "outputs": [
    {
     "data": {
      "text/html": [
       "<div>\n",
       "<style scoped>\n",
       "    .dataframe tbody tr th:only-of-type {\n",
       "        vertical-align: middle;\n",
       "    }\n",
       "\n",
       "    .dataframe tbody tr th {\n",
       "        vertical-align: top;\n",
       "    }\n",
       "\n",
       "    .dataframe thead th {\n",
       "        text-align: right;\n",
       "    }\n",
       "</style>\n",
       "<table border=\"1\" class=\"dataframe\">\n",
       "  <thead>\n",
       "    <tr style=\"text-align: right;\">\n",
       "      <th></th>\n",
       "      <th>fn</th>\n",
       "      <th>event</th>\n",
       "      <th>tE</th>\n",
       "      <th>t0</th>\n",
       "      <th>u0</th>\n",
       "      <th>0</th>\n",
       "      <th>1</th>\n",
       "      <th>2</th>\n",
       "      <th>3</th>\n",
       "      <th>4</th>\n",
       "      <th>...</th>\n",
       "      <th>40</th>\n",
       "      <th>41</th>\n",
       "      <th>42</th>\n",
       "      <th>43</th>\n",
       "      <th>44</th>\n",
       "      <th>45</th>\n",
       "      <th>46</th>\n",
       "      <th>47</th>\n",
       "      <th>48</th>\n",
       "      <th>target</th>\n",
       "    </tr>\n",
       "  </thead>\n",
       "  <tbody>\n",
       "    <tr>\n",
       "      <th>0</th>\n",
       "      <td>../Crowdsourcecopy/crowdsource/crowdsource/csd...</td>\n",
       "      <td>low_noise_not_mlevent</td>\n",
       "      <td>0</td>\n",
       "      <td>0</td>\n",
       "      <td>0.00</td>\n",
       "      <td>336.016278</td>\n",
       "      <td>587.136097</td>\n",
       "      <td>0.363798</td>\n",
       "      <td>358.191406</td>\n",
       "      <td>360.453378</td>\n",
       "      <td>...</td>\n",
       "      <td>232.492947</td>\n",
       "      <td>365.538646</td>\n",
       "      <td>385.097165</td>\n",
       "      <td>1192.781477</td>\n",
       "      <td>0.399815</td>\n",
       "      <td>381.004726</td>\n",
       "      <td>731.903582</td>\n",
       "      <td>950.157000</td>\n",
       "      <td>818.008490</td>\n",
       "      <td>0</td>\n",
       "    </tr>\n",
       "    <tr>\n",
       "      <th>1</th>\n",
       "      <td>../Crowdsourcecopy/crowdsource/crowdsource/csd...</td>\n",
       "      <td>mlevent</td>\n",
       "      <td>533</td>\n",
       "      <td>-85</td>\n",
       "      <td>0.11</td>\n",
       "      <td>1028.496325</td>\n",
       "      <td>0.000000</td>\n",
       "      <td>0.000000</td>\n",
       "      <td>0.000000</td>\n",
       "      <td>0.000000</td>\n",
       "      <td>...</td>\n",
       "      <td>0.007105</td>\n",
       "      <td>0.000000</td>\n",
       "      <td>0.433563</td>\n",
       "      <td>0.000000</td>\n",
       "      <td>0.000000</td>\n",
       "      <td>0.018300</td>\n",
       "      <td>0.000000</td>\n",
       "      <td>0.009276</td>\n",
       "      <td>0.009024</td>\n",
       "      <td>1</td>\n",
       "    </tr>\n",
       "    <tr>\n",
       "      <th>2</th>\n",
       "      <td>../Crowdsourcecopy/crowdsource/crowdsource/csd...</td>\n",
       "      <td>noise_mlevent_orig</td>\n",
       "      <td>0</td>\n",
       "      <td>0</td>\n",
       "      <td>0.00</td>\n",
       "      <td>2297.522465</td>\n",
       "      <td>1980.264257</td>\n",
       "      <td>2060.957348</td>\n",
       "      <td>3369.822279</td>\n",
       "      <td>716.821530</td>\n",
       "      <td>...</td>\n",
       "      <td>0.051107</td>\n",
       "      <td>0.057092</td>\n",
       "      <td>0.028746</td>\n",
       "      <td>0.013112</td>\n",
       "      <td>0.017158</td>\n",
       "      <td>0.045695</td>\n",
       "      <td>0.008618</td>\n",
       "      <td>0.015012</td>\n",
       "      <td>0.032352</td>\n",
       "      <td>1</td>\n",
       "    </tr>\n",
       "    <tr>\n",
       "      <th>3</th>\n",
       "      <td>../Crowdsourcecopy/crowdsource/crowdsource/csd...</td>\n",
       "      <td>noise_not_mlevent</td>\n",
       "      <td>0</td>\n",
       "      <td>0</td>\n",
       "      <td>0.00</td>\n",
       "      <td>494.616315</td>\n",
       "      <td>123.265402</td>\n",
       "      <td>0.000000</td>\n",
       "      <td>85.720109</td>\n",
       "      <td>232.079973</td>\n",
       "      <td>...</td>\n",
       "      <td>29.024630</td>\n",
       "      <td>43.370729</td>\n",
       "      <td>334.928510</td>\n",
       "      <td>536.743704</td>\n",
       "      <td>0.000000</td>\n",
       "      <td>85.720299</td>\n",
       "      <td>577.764381</td>\n",
       "      <td>126.645383</td>\n",
       "      <td>159.451816</td>\n",
       "      <td>0</td>\n",
       "    </tr>\n",
       "    <tr>\n",
       "      <th>4</th>\n",
       "      <td>../Crowdsourcecopy/crowdsource/crowdsource/csd...</td>\n",
       "      <td>mlevent</td>\n",
       "      <td>421</td>\n",
       "      <td>-241</td>\n",
       "      <td>0.32</td>\n",
       "      <td>0.013522</td>\n",
       "      <td>0.002348</td>\n",
       "      <td>0.000000</td>\n",
       "      <td>0.000000</td>\n",
       "      <td>0.000000</td>\n",
       "      <td>...</td>\n",
       "      <td>0.013910</td>\n",
       "      <td>178.085351</td>\n",
       "      <td>991.254167</td>\n",
       "      <td>386.789333</td>\n",
       "      <td>2164.650896</td>\n",
       "      <td>0.000000</td>\n",
       "      <td>0.000000</td>\n",
       "      <td>0.016407</td>\n",
       "      <td>202.599582</td>\n",
       "      <td>1</td>\n",
       "    </tr>\n",
       "    <tr>\n",
       "      <th>...</th>\n",
       "      <td>...</td>\n",
       "      <td>...</td>\n",
       "      <td>...</td>\n",
       "      <td>...</td>\n",
       "      <td>...</td>\n",
       "      <td>...</td>\n",
       "      <td>...</td>\n",
       "      <td>...</td>\n",
       "      <td>...</td>\n",
       "      <td>...</td>\n",
       "      <td>...</td>\n",
       "      <td>...</td>\n",
       "      <td>...</td>\n",
       "      <td>...</td>\n",
       "      <td>...</td>\n",
       "      <td>...</td>\n",
       "      <td>...</td>\n",
       "      <td>...</td>\n",
       "      <td>...</td>\n",
       "      <td>...</td>\n",
       "      <td>...</td>\n",
       "    </tr>\n",
       "    <tr>\n",
       "      <th>22311</th>\n",
       "      <td>../Crowdsourcecopy/crowdsource/crowdsource/csd...</td>\n",
       "      <td>noise_not_mlevent</td>\n",
       "      <td>0</td>\n",
       "      <td>0</td>\n",
       "      <td>0.00</td>\n",
       "      <td>0.117467</td>\n",
       "      <td>0.087201</td>\n",
       "      <td>32.601046</td>\n",
       "      <td>0.088237</td>\n",
       "      <td>43.229931</td>\n",
       "      <td>...</td>\n",
       "      <td>0.060660</td>\n",
       "      <td>0.057119</td>\n",
       "      <td>270.362547</td>\n",
       "      <td>0.030754</td>\n",
       "      <td>32.579777</td>\n",
       "      <td>0.025659</td>\n",
       "      <td>134.613225</td>\n",
       "      <td>0.021245</td>\n",
       "      <td>0.172011</td>\n",
       "      <td>0</td>\n",
       "    </tr>\n",
       "    <tr>\n",
       "      <th>22312</th>\n",
       "      <td>../Crowdsourcecopy/crowdsource/crowdsource/csd...</td>\n",
       "      <td>mlevent</td>\n",
       "      <td>496</td>\n",
       "      <td>134</td>\n",
       "      <td>0.42</td>\n",
       "      <td>0.002404</td>\n",
       "      <td>0.000000</td>\n",
       "      <td>0.005025</td>\n",
       "      <td>0.000000</td>\n",
       "      <td>0.008719</td>\n",
       "      <td>...</td>\n",
       "      <td>0.002258</td>\n",
       "      <td>0.000000</td>\n",
       "      <td>0.017365</td>\n",
       "      <td>0.016930</td>\n",
       "      <td>0.036035</td>\n",
       "      <td>0.000000</td>\n",
       "      <td>538.642688</td>\n",
       "      <td>0.023244</td>\n",
       "      <td>0.099388</td>\n",
       "      <td>1</td>\n",
       "    </tr>\n",
       "    <tr>\n",
       "      <th>22313</th>\n",
       "      <td>../Crowdsourcecopy/crowdsource/crowdsource/csd...</td>\n",
       "      <td>noise_mlevent_orig</td>\n",
       "      <td>0</td>\n",
       "      <td>0</td>\n",
       "      <td>0.00</td>\n",
       "      <td>267.976977</td>\n",
       "      <td>268.833624</td>\n",
       "      <td>162.170571</td>\n",
       "      <td>112.069461</td>\n",
       "      <td>0.408803</td>\n",
       "      <td>...</td>\n",
       "      <td>0.032708</td>\n",
       "      <td>0.004659</td>\n",
       "      <td>0.000000</td>\n",
       "      <td>0.004685</td>\n",
       "      <td>0.004685</td>\n",
       "      <td>0.002348</td>\n",
       "      <td>0.004696</td>\n",
       "      <td>0.007022</td>\n",
       "      <td>0.002337</td>\n",
       "      <td>1</td>\n",
       "    </tr>\n",
       "    <tr>\n",
       "      <th>22314</th>\n",
       "      <td>../Crowdsourcecopy/crowdsource/crowdsource/csd...</td>\n",
       "      <td>noise_mlevent_orig</td>\n",
       "      <td>0</td>\n",
       "      <td>0</td>\n",
       "      <td>0.00</td>\n",
       "      <td>7495.349130</td>\n",
       "      <td>2158.254836</td>\n",
       "      <td>0.000000</td>\n",
       "      <td>0.000000</td>\n",
       "      <td>945.055870</td>\n",
       "      <td>...</td>\n",
       "      <td>0.000000</td>\n",
       "      <td>0.000000</td>\n",
       "      <td>0.004892</td>\n",
       "      <td>0.004892</td>\n",
       "      <td>0.000000</td>\n",
       "      <td>0.000000</td>\n",
       "      <td>0.002446</td>\n",
       "      <td>0.000000</td>\n",
       "      <td>0.002284</td>\n",
       "      <td>1</td>\n",
       "    </tr>\n",
       "    <tr>\n",
       "      <th>22315</th>\n",
       "      <td>../Crowdsourcecopy/crowdsource/crowdsource/csd...</td>\n",
       "      <td>not_mlevent</td>\n",
       "      <td>0</td>\n",
       "      <td>0</td>\n",
       "      <td>0.00</td>\n",
       "      <td>52.563547</td>\n",
       "      <td>0.062279</td>\n",
       "      <td>0.054691</td>\n",
       "      <td>285.626971</td>\n",
       "      <td>0.582894</td>\n",
       "      <td>...</td>\n",
       "      <td>0.285084</td>\n",
       "      <td>0.718897</td>\n",
       "      <td>0.121940</td>\n",
       "      <td>0.366618</td>\n",
       "      <td>85.608742</td>\n",
       "      <td>0.646139</td>\n",
       "      <td>1.131381</td>\n",
       "      <td>0.177253</td>\n",
       "      <td>0.493082</td>\n",
       "      <td>0</td>\n",
       "    </tr>\n",
       "  </tbody>\n",
       "</table>\n",
       "<p>22316 rows × 55 columns</p>\n",
       "</div>"
      ],
      "text/plain": [
       "                                                      fn   \n",
       "0      ../Crowdsourcecopy/crowdsource/crowdsource/csd...  \\\n",
       "1      ../Crowdsourcecopy/crowdsource/crowdsource/csd...   \n",
       "2      ../Crowdsourcecopy/crowdsource/crowdsource/csd...   \n",
       "3      ../Crowdsourcecopy/crowdsource/crowdsource/csd...   \n",
       "4      ../Crowdsourcecopy/crowdsource/crowdsource/csd...   \n",
       "...                                                  ...   \n",
       "22311  ../Crowdsourcecopy/crowdsource/crowdsource/csd...   \n",
       "22312  ../Crowdsourcecopy/crowdsource/crowdsource/csd...   \n",
       "22313  ../Crowdsourcecopy/crowdsource/crowdsource/csd...   \n",
       "22314  ../Crowdsourcecopy/crowdsource/crowdsource/csd...   \n",
       "22315  ../Crowdsourcecopy/crowdsource/crowdsource/csd...   \n",
       "\n",
       "                       event   tE   t0    u0            0            1   \n",
       "0      low_noise_not_mlevent    0    0  0.00   336.016278   587.136097  \\\n",
       "1                    mlevent  533  -85  0.11  1028.496325     0.000000   \n",
       "2         noise_mlevent_orig    0    0  0.00  2297.522465  1980.264257   \n",
       "3          noise_not_mlevent    0    0  0.00   494.616315   123.265402   \n",
       "4                    mlevent  421 -241  0.32     0.013522     0.002348   \n",
       "...                      ...  ...  ...   ...          ...          ...   \n",
       "22311      noise_not_mlevent    0    0  0.00     0.117467     0.087201   \n",
       "22312                mlevent  496  134  0.42     0.002404     0.000000   \n",
       "22313     noise_mlevent_orig    0    0  0.00   267.976977   268.833624   \n",
       "22314     noise_mlevent_orig    0    0  0.00  7495.349130  2158.254836   \n",
       "22315            not_mlevent    0    0  0.00    52.563547     0.062279   \n",
       "\n",
       "                 2            3           4  ...          40          41   \n",
       "0         0.363798   358.191406  360.453378  ...  232.492947  365.538646  \\\n",
       "1         0.000000     0.000000    0.000000  ...    0.007105    0.000000   \n",
       "2      2060.957348  3369.822279  716.821530  ...    0.051107    0.057092   \n",
       "3         0.000000    85.720109  232.079973  ...   29.024630   43.370729   \n",
       "4         0.000000     0.000000    0.000000  ...    0.013910  178.085351   \n",
       "...            ...          ...         ...  ...         ...         ...   \n",
       "22311    32.601046     0.088237   43.229931  ...    0.060660    0.057119   \n",
       "22312     0.005025     0.000000    0.008719  ...    0.002258    0.000000   \n",
       "22313   162.170571   112.069461    0.408803  ...    0.032708    0.004659   \n",
       "22314     0.000000     0.000000  945.055870  ...    0.000000    0.000000   \n",
       "22315     0.054691   285.626971    0.582894  ...    0.285084    0.718897   \n",
       "\n",
       "               42           43           44          45          46   \n",
       "0      385.097165  1192.781477     0.399815  381.004726  731.903582  \\\n",
       "1        0.433563     0.000000     0.000000    0.018300    0.000000   \n",
       "2        0.028746     0.013112     0.017158    0.045695    0.008618   \n",
       "3      334.928510   536.743704     0.000000   85.720299  577.764381   \n",
       "4      991.254167   386.789333  2164.650896    0.000000    0.000000   \n",
       "...           ...          ...          ...         ...         ...   \n",
       "22311  270.362547     0.030754    32.579777    0.025659  134.613225   \n",
       "22312    0.017365     0.016930     0.036035    0.000000  538.642688   \n",
       "22313    0.000000     0.004685     0.004685    0.002348    0.004696   \n",
       "22314    0.004892     0.004892     0.000000    0.000000    0.002446   \n",
       "22315    0.121940     0.366618    85.608742    0.646139    1.131381   \n",
       "\n",
       "               47          48  target  \n",
       "0      950.157000  818.008490       0  \n",
       "1        0.009276    0.009024       1  \n",
       "2        0.015012    0.032352       1  \n",
       "3      126.645383  159.451816       0  \n",
       "4        0.016407  202.599582       1  \n",
       "...           ...         ...     ...  \n",
       "22311    0.021245    0.172011       0  \n",
       "22312    0.023244    0.099388       1  \n",
       "22313    0.007022    0.002337       1  \n",
       "22314    0.000000    0.002284       1  \n",
       "22315    0.177253    0.493082       0  \n",
       "\n",
       "[22316 rows x 55 columns]"
      ]
     },
     "metadata": {},
     "output_type": "display_data"
    }
   ],
   "source": [
    "df.replace([np.inf, -np.inf], np.nan, inplace=True)\n",
    "\n",
    "# Drop rows with NaN\n",
    "df.dropna(inplace=True)\n",
    "\n",
    "# df.dropna().iloc[np.where(df.dropna()==np.inf)]\n",
    "\n",
    "df = df.reset_index()\n",
    "df = df.drop([\"index\", \"level_0\"], axis=1)\n",
    "display(df)"
   ]
  },
  {
   "cell_type": "code",
   "execution_count": 82,
   "id": "9b82cdd8-b304-41b9-8ec4-9e4f708cc843",
   "metadata": {
    "tags": []
   },
   "outputs": [],
   "source": [
    "x = df.drop(['target', 'fn', 'tE', 't0', 'u0', 'event'],axis='columns')\n",
    "y = df[\"target\"]"
   ]
  },
  {
   "cell_type": "code",
   "execution_count": 93,
   "id": "234b7388-bcc7-4347-92a5-a50d3865bc54",
   "metadata": {
    "tags": []
   },
   "outputs": [
    {
     "data": {
      "text/plain": [
       "22315"
      ]
     },
     "execution_count": 93,
     "metadata": {},
     "output_type": "execute_result"
    }
   ],
   "source": [
    "max(df.index)"
   ]
  },
  {
   "cell_type": "code",
   "execution_count": 84,
   "id": "ff306750-7a44-425e-8695-d0315ec18135",
   "metadata": {
    "tags": []
   },
   "outputs": [],
   "source": [
    "from sklearn.model_selection import train_test_split\n",
    "X_train, X_test, y_train, y_test = train_test_split(x,y,test_size=0.4)"
   ]
  },
  {
   "cell_type": "code",
   "execution_count": 96,
   "id": "ed5e2c53-f883-4830-9992-d00a16c8c1c1",
   "metadata": {
    "tags": []
   },
   "outputs": [
    {
     "data": {
      "text/plain": [
       "22312"
      ]
     },
     "execution_count": 96,
     "metadata": {},
     "output_type": "execute_result"
    }
   ],
   "source": [
    "max(X_test.index)"
   ]
  },
  {
   "cell_type": "code",
   "execution_count": 85,
   "id": "21669323-bbc2-4874-8fa2-d778de983b08",
   "metadata": {
    "tags": []
   },
   "outputs": [
    {
     "data": {
      "text/html": [
       "<style>#sk-container-id-3 {color: black;}#sk-container-id-3 pre{padding: 0;}#sk-container-id-3 div.sk-toggleable {background-color: white;}#sk-container-id-3 label.sk-toggleable__label {cursor: pointer;display: block;width: 100%;margin-bottom: 0;padding: 0.3em;box-sizing: border-box;text-align: center;}#sk-container-id-3 label.sk-toggleable__label-arrow:before {content: \"▸\";float: left;margin-right: 0.25em;color: #696969;}#sk-container-id-3 label.sk-toggleable__label-arrow:hover:before {color: black;}#sk-container-id-3 div.sk-estimator:hover label.sk-toggleable__label-arrow:before {color: black;}#sk-container-id-3 div.sk-toggleable__content {max-height: 0;max-width: 0;overflow: hidden;text-align: left;background-color: #f0f8ff;}#sk-container-id-3 div.sk-toggleable__content pre {margin: 0.2em;color: black;border-radius: 0.25em;background-color: #f0f8ff;}#sk-container-id-3 input.sk-toggleable__control:checked~div.sk-toggleable__content {max-height: 200px;max-width: 100%;overflow: auto;}#sk-container-id-3 input.sk-toggleable__control:checked~label.sk-toggleable__label-arrow:before {content: \"▾\";}#sk-container-id-3 div.sk-estimator input.sk-toggleable__control:checked~label.sk-toggleable__label {background-color: #d4ebff;}#sk-container-id-3 div.sk-label input.sk-toggleable__control:checked~label.sk-toggleable__label {background-color: #d4ebff;}#sk-container-id-3 input.sk-hidden--visually {border: 0;clip: rect(1px 1px 1px 1px);clip: rect(1px, 1px, 1px, 1px);height: 1px;margin: -1px;overflow: hidden;padding: 0;position: absolute;width: 1px;}#sk-container-id-3 div.sk-estimator {font-family: monospace;background-color: #f0f8ff;border: 1px dotted black;border-radius: 0.25em;box-sizing: border-box;margin-bottom: 0.5em;}#sk-container-id-3 div.sk-estimator:hover {background-color: #d4ebff;}#sk-container-id-3 div.sk-parallel-item::after {content: \"\";width: 100%;border-bottom: 1px solid gray;flex-grow: 1;}#sk-container-id-3 div.sk-label:hover label.sk-toggleable__label {background-color: #d4ebff;}#sk-container-id-3 div.sk-serial::before {content: \"\";position: absolute;border-left: 1px solid gray;box-sizing: border-box;top: 0;bottom: 0;left: 50%;z-index: 0;}#sk-container-id-3 div.sk-serial {display: flex;flex-direction: column;align-items: center;background-color: white;padding-right: 0.2em;padding-left: 0.2em;position: relative;}#sk-container-id-3 div.sk-item {position: relative;z-index: 1;}#sk-container-id-3 div.sk-parallel {display: flex;align-items: stretch;justify-content: center;background-color: white;position: relative;}#sk-container-id-3 div.sk-item::before, #sk-container-id-3 div.sk-parallel-item::before {content: \"\";position: absolute;border-left: 1px solid gray;box-sizing: border-box;top: 0;bottom: 0;left: 50%;z-index: -1;}#sk-container-id-3 div.sk-parallel-item {display: flex;flex-direction: column;z-index: 1;position: relative;background-color: white;}#sk-container-id-3 div.sk-parallel-item:first-child::after {align-self: flex-end;width: 50%;}#sk-container-id-3 div.sk-parallel-item:last-child::after {align-self: flex-start;width: 50%;}#sk-container-id-3 div.sk-parallel-item:only-child::after {width: 0;}#sk-container-id-3 div.sk-dashed-wrapped {border: 1px dashed gray;margin: 0 0.4em 0.5em 0.4em;box-sizing: border-box;padding-bottom: 0.4em;background-color: white;}#sk-container-id-3 div.sk-label label {font-family: monospace;font-weight: bold;display: inline-block;line-height: 1.2em;}#sk-container-id-3 div.sk-label-container {text-align: center;}#sk-container-id-3 div.sk-container {/* jupyter's `normalize.less` sets `[hidden] { display: none; }` but bootstrap.min.css set `[hidden] { display: none !important; }` so we also need the `!important` here to be able to override the default hidden behavior on the sphinx rendered scikit-learn.org. See: https://github.com/scikit-learn/scikit-learn/issues/21755 */display: inline-block !important;position: relative;}#sk-container-id-3 div.sk-text-repr-fallback {display: none;}</style><div id=\"sk-container-id-3\" class=\"sk-top-container\"><div class=\"sk-text-repr-fallback\"><pre>RandomForestClassifier()</pre><b>In a Jupyter environment, please rerun this cell to show the HTML representation or trust the notebook. <br />On GitHub, the HTML representation is unable to render, please try loading this page with nbviewer.org.</b></div><div class=\"sk-container\" hidden><div class=\"sk-item\"><div class=\"sk-estimator sk-toggleable\"><input class=\"sk-toggleable__control sk-hidden--visually\" id=\"sk-estimator-id-3\" type=\"checkbox\" checked><label for=\"sk-estimator-id-3\" class=\"sk-toggleable__label sk-toggleable__label-arrow\">RandomForestClassifier</label><div class=\"sk-toggleable__content\"><pre>RandomForestClassifier()</pre></div></div></div></div></div>"
      ],
      "text/plain": [
       "RandomForestClassifier()"
      ]
     },
     "execution_count": 85,
     "metadata": {},
     "output_type": "execute_result"
    }
   ],
   "source": [
    "from sklearn.ensemble import RandomForestClassifier\n",
    "model = RandomForestClassifier()\n",
    "model.fit(X_train, y_train)"
   ]
  },
  {
   "cell_type": "code",
   "execution_count": 86,
   "id": "8c4de5bc-a063-43de-82bc-14a24000f257",
   "metadata": {
    "tags": []
   },
   "outputs": [
    {
     "data": {
      "text/plain": [
       "0.7359695306373922"
      ]
     },
     "execution_count": 86,
     "metadata": {},
     "output_type": "execute_result"
    }
   ],
   "source": [
    "model.score(X_test,y_test)"
   ]
  },
  {
   "cell_type": "code",
   "execution_count": 87,
   "id": "cd2101eb-bb58-4a1c-8164-3226f07b43cf",
   "metadata": {
    "tags": []
   },
   "outputs": [
    {
     "data": {
      "text/plain": [
       "0.7300324857174862"
      ]
     },
     "execution_count": 87,
     "metadata": {},
     "output_type": "execute_result"
    }
   ],
   "source": [
    "model = RandomForestClassifier(n_estimators=60, bootstrap=True)\n",
    "model.fit(X_train, y_train)\n",
    "model.score(X_test,y_test)"
   ]
  },
  {
   "cell_type": "code",
   "execution_count": 88,
   "id": "30c08c17-c0d1-43d6-bddd-68b840974994",
   "metadata": {
    "tags": []
   },
   "outputs": [],
   "source": [
    "y_predicted = model.predict(X_test)"
   ]
  },
  {
   "cell_type": "code",
   "execution_count": 89,
   "id": "ad6fdab6-6f3f-4c3b-bd36-6bb22de7eb3f",
   "metadata": {
    "tags": []
   },
   "outputs": [
    {
     "data": {
      "text/plain": [
       "array([[2742, 1104],\n",
       "       [1306, 3775]])"
      ]
     },
     "execution_count": 89,
     "metadata": {},
     "output_type": "execute_result"
    }
   ],
   "source": [
    "from sklearn.metrics import confusion_matrix\n",
    "cm = confusion_matrix(y_test, y_predicted)\n",
    "cm"
   ]
  },
  {
   "cell_type": "code",
   "execution_count": null,
   "id": "63f5f7c9-dece-4293-868a-93e8ee5dd364",
   "metadata": {
    "tags": []
   },
   "outputs": [],
   "source": []
  },
  {
   "cell_type": "code",
   "execution_count": null,
   "id": "482a6547-b080-4349-8e60-61436d423af4",
   "metadata": {
    "tags": []
   },
   "outputs": [],
   "source": []
  },
  {
   "cell_type": "code",
   "execution_count": 98,
   "id": "e5509903-33c7-4563-ab8a-d458277bbc08",
   "metadata": {
    "tags": []
   },
   "outputs": [],
   "source": [
    "copy = X_test.copy()\n",
    "copy[\"y_test\"] = y_test\n",
    "copy[\"y_predicted\"] = y_predicted\n",
    "copy[\"event\"] = np.array(df.iloc[copy.index][\"event\"])\n",
    "copy[\"t0\"] = np.array(df.iloc[copy.index][\"t0\"])\n",
    "copy[\"u0\"] = np.array(df.iloc[copy.index][\"u0\"])\n",
    "copy[\"tE\"] = np.array(df.iloc[copy.index][\"tE\"])"
   ]
  },
  {
   "cell_type": "code",
   "execution_count": 99,
   "id": "af94d349-d17f-4d3f-8a29-65271030fa18",
   "metadata": {
    "tags": []
   },
   "outputs": [
    {
     "data": {
      "text/plain": [
       "(Index([ 9404, 21801,  2451,  4326, 16673,  9567,   282, 15236,    11, 16549,\n",
       "        ...\n",
       "        20542, 14653,  4264, 18537, 16318,  7355,   423, 21004, 17071, 14334],\n",
       "       dtype='int64', length=8927),\n",
       " RangeIndex(start=0, stop=22316, step=1))"
      ]
     },
     "execution_count": 99,
     "metadata": {},
     "output_type": "execute_result"
    }
   ],
   "source": [
    "copy.index, df.index"
   ]
  },
  {
   "cell_type": "code",
   "execution_count": null,
   "id": "22468efb-1b45-487d-b444-547ba818f458",
   "metadata": {
    "tags": []
   },
   "outputs": [],
   "source": []
  },
  {
   "cell_type": "code",
   "execution_count": null,
   "id": "f5ebbbf1-7048-4441-9336-820f1f48e08b",
   "metadata": {
    "tags": []
   },
   "outputs": [],
   "source": []
  },
  {
   "cell_type": "code",
   "execution_count": 100,
   "id": "ec4c6765-ff5a-40d9-9e86-c0d214a6c004",
   "metadata": {
    "tags": []
   },
   "outputs": [
    {
     "data": {
      "text/plain": [
       "array(['low_noise_mlevent_new', 'low_noise_not_mlevent', 'mlevent',\n",
       "       'noise_mlevent_new', 'noise_mlevent_orig', 'noise_not_mlevent',\n",
       "       'not_mlevent'], dtype=object)"
      ]
     },
     "execution_count": 100,
     "metadata": {},
     "output_type": "execute_result"
    }
   ],
   "source": [
    "np.unique(df[\"event\"])"
   ]
  },
  {
   "cell_type": "code",
   "execution_count": 108,
   "id": "703161a7-111f-4faf-8fd4-391268e4f4f6",
   "metadata": {
    "tags": []
   },
   "outputs": [
    {
     "data": {
      "text/plain": [
       "Text(58.222222222222214, 0.5, 'Truth')"
      ]
     },
     "execution_count": 108,
     "metadata": {},
     "output_type": "execute_result"
    },
    {
     "data": {
      "image/png": "[encoded data removed]",
      "text/plain": [
       "<Figure size 700x500 with 2 Axes>"
      ]
     },
     "metadata": {},
     "output_type": "display_data"
    }
   ],
   "source": [
    "noise_mlevent_orig = copy.iloc[np.where(\"noise_mlevent_new\"==copy[\"event\"])]\n",
    "mynext = copy.iloc[np.where(\"noise_mlevent_orig\"==copy[\"event\"])]\n",
    "\n",
    "cm = confusion_matrix(noise_mlevent_orig[\"y_test\"], noise_mlevent_orig[\"y_predicted\"])\n",
    "cm2 = confusion_matrix(mynext[\"y_test\"], mynext[\"y_predicted\"])\n",
    "cm = cm + cm2\n",
    "\n",
    "%matplotlib inline\n",
    "import matplotlib.pyplot as plt\n",
    "import seaborn as sn\n",
    "plt.figure(figsize=(7,5))\n",
    "import seaborn as sns\n",
    "sns.heatmap(cm, annot=True, fmt=\"g\")\n",
    "plt.xlabel('Predicted')\n",
    "plt.ylabel('Truth')"
   ]
  },
  {
   "cell_type": "code",
   "execution_count": null,
   "id": "c99ff4ac-995b-4c46-a761-3db2d7408607",
   "metadata": {},
   "outputs": [],
   "source": []
  },
  {
   "cell_type": "code",
   "execution_count": 17,
   "id": "fe46e702-21b5-452c-bac4-367d956f2e99",
   "metadata": {
    "tags": []
   },
   "outputs": [
    {
     "data": {
      "text/plain": [
       "Text(58.222222222222214, 0.5, 'Truth')"
      ]
     },
     "execution_count": 17,
     "metadata": {},
     "output_type": "execute_result"
    },
    {
     "data": {
      "image/png": "[encoded data removed]",
      "text/plain": [
       "<Figure size 700x500 with 2 Axes>"
      ]
     },
     "metadata": {},
     "output_type": "display_data"
    }
   ],
   "source": [
    "%matplotlib inline\n",
    "import matplotlib.pyplot as plt\n",
    "import seaborn as sn\n",
    "plt.figure(figsize=(7,5))\n",
    "import seaborn as sns\n",
    "sns.heatmap(cm, annot=True, fmt=\"g\")\n",
    "plt.xlabel('Predicted')\n",
    "plt.ylabel('Truth')"
   ]
  },
  {
   "cell_type": "code",
   "execution_count": null,
   "id": "fb05c860-04f0-431f-ba84-b574e09c30c6",
   "metadata": {
    "tags": []
   },
   "outputs": [],
   "source": []
  },
  {
   "cell_type": "code",
   "execution_count": null,
   "id": "6830df64-01c0-4188-aa4c-fd7957cb554d",
   "metadata": {},
   "outputs": [],
   "source": []
  }
 ],
 "metadata": {
  "kernelspec": {
   "display_name": "myenv",
   "language": "python",
   "name": "myenv"
  },
  "language_info": {
   "codemirror_mode": {
    "name": "ipython",
    "version": 3
   },
   "file_extension": ".py",
   "mimetype": "text/x-python",
   "name": "python",
   "nbconvert_exporter": "python",
   "pygments_lexer": "ipython3",
   "version": "3.8.16"
  }
 },
 "nbformat": 4,
 "nbformat_minor": 5
}
