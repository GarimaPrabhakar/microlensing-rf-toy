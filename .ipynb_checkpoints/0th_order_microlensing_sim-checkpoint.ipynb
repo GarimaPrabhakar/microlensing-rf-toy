{
 "cells": [
  {
   "cell_type": "code",
   "execution_count": 1,
   "id": "7636d0c4-74a4-4b29-aa86-c68b8779f5d4",
   "metadata": {
    "tags": []
   },
   "outputs": [],
   "source": [
    "import pandas as pd\n",
    "import matplotlib.pyplot as plt\n",
    "import os\n",
    "import numpy as np"
   ]
  },
  {
   "cell_type": "code",
   "execution_count": 6,
   "id": "3de9f93c-6734-4dc1-80de-265c0af14c19",
   "metadata": {
    "tags": []
   },
   "outputs": [
    {
     "data": {
      "text/plain": [
       "'../Crowdsource copy/crowdsource/crowdsource/csdata/data1/DC22eokxf_crowdsource_rs.csv'"
      ]
     },
     "execution_count": 6,
     "metadata": {},
     "output_type": "execute_result"
    }
   ],
   "source": [
    "datas = os.listdir(\"../Crowdsource copy/crowdsource/crowdsource/csdata/data1\")\n",
    "dir_data = \"../Crowdsource copy/crowdsource/crowdsource/csdata/data1/\"+datas[0]\n",
    "dir_data"
   ]
  },
  {
   "cell_type": "code",
   "execution_count": 7,
   "id": "89cf9e52-aa81-4267-84c6-a86061626ac2",
   "metadata": {
    "tags": []
   },
   "outputs": [],
   "source": [
    "df = pd.read_csv(dir_data)\n",
    "df.columns = ['index', 'x', 'y', 'flux', 'deltx', 'delty', 'chi2_', 'dx', 'dy',\n",
    "       'dflux', 'qf', 'rchi2', 'fracflux', 'fluxlbs', 'dfluxlbs', 'fwhm',\n",
    "       'spread_model', 'dspread_model', 'fluxiso', 'xiso', 'yiso', 'sky',\n",
    "       'BADIM FLAG', 'BADFIT FLAG', 'FAILED FIT', 'FIT CHI2',\n",
    "       'APERTURE RADIUS', 'QUALITY FLAG', 'STDEV FLAG', 'RELERR FLAG',\n",
    "       'ref_fn', 'forced_fn', 'fn_index', 's', 'seeing', 'magzp', 'band',\n",
    "       'candidate_id', 'MJD', 'resim_']"
   ]
  },
  {
   "cell_type": "code",
   "execution_count": 9,
   "id": "e2146459-bc65-48a9-a7c1-6d536e0b85d7",
   "metadata": {
    "tags": []
   },
   "outputs": [],
   "source": [
    "df = df.iloc[np.where(df.band==\"g\")]\n",
    "df = df.iloc[np.where((df[\"QUALITY FLAG\"]>3))]\n",
    "df = df.iloc[np.where((df[\"QUALITY FLAG\"]<6))]\n",
    "df = df.iloc[np.where((df[\"RELERR FLAG\"]==0))]\n",
    "df = df.iloc[np.where((df[\"chi2_\"]<120))]\n",
    "df = df.iloc[np.where((df[\"magzp\"]!=0))]\n",
    "df = df.iloc[np.where((df[\"seeing\"]!=0))]\n",
    "#df = df.iloc[np.where(((df[\"flux\"]/df[\"dflux\"])<0.2))]\n",
    "# dfn = dfn.iloc[np.where((dfn[\"seeing\"]>1))]\n",
    "df[\"normflux\"] = df[\"flux\"]*(10**((df[\"magzp\"]-29)/2.5))\n",
    "df[\"dnormflux\"] = df[\"dflux\"]*(10**((df[\"magzp\"]-29)/2.5))\n",
    "df = df.iloc[np.where((df[\"dnormflux\"]/df[\"normflux\"])<0.2)]\n",
    "df = df.iloc[np.where(df[\"normflux\"]<50000)]\n",
    "df = df.sort_values(\"MJD\")\n",
    "df = df.reset_index()"
   ]
  },
  {
   "cell_type": "code",
   "execution_count": 10,
   "id": "dda761f1-c922-4038-a023-e0b3bacb7dac",
   "metadata": {
    "tags": []
   },
   "outputs": [
    {
     "data": {
      "text/html": [
       "<div>\n",
       "<style scoped>\n",
       "    .dataframe tbody tr th:only-of-type {\n",
       "        vertical-align: middle;\n",
       "    }\n",
       "\n",
       "    .dataframe tbody tr th {\n",
       "        vertical-align: top;\n",
       "    }\n",
       "\n",
       "    .dataframe thead th {\n",
       "        text-align: right;\n",
       "    }\n",
       "</style>\n",
       "<table border=\"1\" class=\"dataframe\">\n",
       "  <thead>\n",
       "    <tr style=\"text-align: right;\">\n",
       "      <th></th>\n",
       "      <th>level_0</th>\n",
       "      <th>index</th>\n",
       "      <th>x</th>\n",
       "      <th>y</th>\n",
       "      <th>flux</th>\n",
       "      <th>deltx</th>\n",
       "      <th>delty</th>\n",
       "      <th>chi2_</th>\n",
       "      <th>dx</th>\n",
       "      <th>dy</th>\n",
       "      <th>...</th>\n",
       "      <th>fn_index</th>\n",
       "      <th>s</th>\n",
       "      <th>seeing</th>\n",
       "      <th>magzp</th>\n",
       "      <th>band</th>\n",
       "      <th>candidate_id</th>\n",
       "      <th>MJD</th>\n",
       "      <th>resim_</th>\n",
       "      <th>normflux</th>\n",
       "      <th>dnormflux</th>\n",
       "    </tr>\n",
       "  </thead>\n",
       "  <tbody>\n",
       "    <tr>\n",
       "      <th>0</th>\n",
       "      <td>284</td>\n",
       "      <td>0</td>\n",
       "      <td>16.702758</td>\n",
       "      <td>15.522884</td>\n",
       "      <td>7750.015137</td>\n",
       "      <td>-0.138246</td>\n",
       "      <td>-0.106884</td>\n",
       "      <td>33.202772</td>\n",
       "      <td>0.407668</td>\n",
       "      <td>0.403148</td>\n",
       "      <td>...</td>\n",
       "      <td>302</td>\n",
       "      <td>15</td>\n",
       "      <td>1.286780</td>\n",
       "      <td>29.643635</td>\n",
       "      <td>g</td>\n",
       "      <td>DC22eokxf</td>\n",
       "      <td>59295.384410</td>\n",
       "      <td>[[-1.72849350e+01  1.91598282e+01 -1.39714050e...</td>\n",
       "      <td>14020.277478</td>\n",
       "      <td>2462.368698</td>\n",
       "    </tr>\n",
       "    <tr>\n",
       "      <th>1</th>\n",
       "      <td>269</td>\n",
       "      <td>0</td>\n",
       "      <td>15.866967</td>\n",
       "      <td>15.129282</td>\n",
       "      <td>8541.306641</td>\n",
       "      <td>-0.172963</td>\n",
       "      <td>-0.102182</td>\n",
       "      <td>31.103775</td>\n",
       "      <td>0.377937</td>\n",
       "      <td>0.366677</td>\n",
       "      <td>...</td>\n",
       "      <td>287</td>\n",
       "      <td>15</td>\n",
       "      <td>1.202713</td>\n",
       "      <td>29.639124</td>\n",
       "      <td>g</td>\n",
       "      <td>DC22eokxf</td>\n",
       "      <td>59295.388149</td>\n",
       "      <td>[[-8.05695343e+00  2.54960785e+01 -3.21421814e...</td>\n",
       "      <td>15387.710278</td>\n",
       "      <td>2511.331569</td>\n",
       "    </tr>\n",
       "    <tr>\n",
       "      <th>2</th>\n",
       "      <td>279</td>\n",
       "      <td>0</td>\n",
       "      <td>16.698566</td>\n",
       "      <td>15.508478</td>\n",
       "      <td>9198.387695</td>\n",
       "      <td>-0.148958</td>\n",
       "      <td>-0.101992</td>\n",
       "      <td>42.425596</td>\n",
       "      <td>0.351772</td>\n",
       "      <td>0.345523</td>\n",
       "      <td>...</td>\n",
       "      <td>297</td>\n",
       "      <td>15</td>\n",
       "      <td>1.179602</td>\n",
       "      <td>29.637720</td>\n",
       "      <td>g</td>\n",
       "      <td>DC22eokxf</td>\n",
       "      <td>59295.391910</td>\n",
       "      <td>[[-1.04088211e+01  1.11433411e+01 -4.35919952e...</td>\n",
       "      <td>16550.057765</td>\n",
       "      <td>2534.345862</td>\n",
       "    </tr>\n",
       "    <tr>\n",
       "      <th>3</th>\n",
       "      <td>282</td>\n",
       "      <td>0</td>\n",
       "      <td>16.899334</td>\n",
       "      <td>15.764242</td>\n",
       "      <td>7276.283691</td>\n",
       "      <td>-0.146977</td>\n",
       "      <td>-0.099910</td>\n",
       "      <td>31.438759</td>\n",
       "      <td>0.443918</td>\n",
       "      <td>0.433962</td>\n",
       "      <td>...</td>\n",
       "      <td>300</td>\n",
       "      <td>15</td>\n",
       "      <td>1.331029</td>\n",
       "      <td>29.642897</td>\n",
       "      <td>g</td>\n",
       "      <td>DC22eokxf</td>\n",
       "      <td>59295.397104</td>\n",
       "      <td>[[-1.93878937e+00  9.48197937e+00  4.38304901e...</td>\n",
       "      <td>13154.322020</td>\n",
       "      <td>2461.625427</td>\n",
       "    </tr>\n",
       "    <tr>\n",
       "      <th>4</th>\n",
       "      <td>281</td>\n",
       "      <td>0</td>\n",
       "      <td>16.636170</td>\n",
       "      <td>15.686310</td>\n",
       "      <td>8161.482910</td>\n",
       "      <td>-0.160474</td>\n",
       "      <td>-0.115821</td>\n",
       "      <td>55.668492</td>\n",
       "      <td>0.408855</td>\n",
       "      <td>0.405966</td>\n",
       "      <td>...</td>\n",
       "      <td>299</td>\n",
       "      <td>15</td>\n",
       "      <td>1.282140</td>\n",
       "      <td>29.642246</td>\n",
       "      <td>g</td>\n",
       "      <td>DC22eokxf</td>\n",
       "      <td>59295.400819</td>\n",
       "      <td>[[-1.44699402e+01  7.01345062e+00  6.84712982e...</td>\n",
       "      <td>14745.774394</td>\n",
       "      <td>2577.560895</td>\n",
       "    </tr>\n",
       "    <tr>\n",
       "      <th>...</th>\n",
       "      <td>...</td>\n",
       "      <td>...</td>\n",
       "      <td>...</td>\n",
       "      <td>...</td>\n",
       "      <td>...</td>\n",
       "      <td>...</td>\n",
       "      <td>...</td>\n",
       "      <td>...</td>\n",
       "      <td>...</td>\n",
       "      <td>...</td>\n",
       "      <td>...</td>\n",
       "      <td>...</td>\n",
       "      <td>...</td>\n",
       "      <td>...</td>\n",
       "      <td>...</td>\n",
       "      <td>...</td>\n",
       "      <td>...</td>\n",
       "      <td>...</td>\n",
       "      <td>...</td>\n",
       "      <td>...</td>\n",
       "      <td>...</td>\n",
       "    </tr>\n",
       "    <tr>\n",
       "      <th>58</th>\n",
       "      <td>16</td>\n",
       "      <td>0</td>\n",
       "      <td>16.072450</td>\n",
       "      <td>15.065553</td>\n",
       "      <td>8711.168945</td>\n",
       "      <td>-0.171267</td>\n",
       "      <td>-0.118816</td>\n",
       "      <td>46.636224</td>\n",
       "      <td>0.368328</td>\n",
       "      <td>0.355780</td>\n",
       "      <td>...</td>\n",
       "      <td>17</td>\n",
       "      <td>15</td>\n",
       "      <td>1.149289</td>\n",
       "      <td>29.664277</td>\n",
       "      <td>g</td>\n",
       "      <td>DC22eokxf</td>\n",
       "      <td>59739.303483</td>\n",
       "      <td>[[-1.86451721e+00  1.08196106e+01 -7.00008392e...</td>\n",
       "      <td>16061.540950</td>\n",
       "      <td>2563.138885</td>\n",
       "    </tr>\n",
       "    <tr>\n",
       "      <th>59</th>\n",
       "      <td>39</td>\n",
       "      <td>0</td>\n",
       "      <td>16.504157</td>\n",
       "      <td>15.997713</td>\n",
       "      <td>7675.234863</td>\n",
       "      <td>-0.138864</td>\n",
       "      <td>-0.096327</td>\n",
       "      <td>33.126981</td>\n",
       "      <td>0.407702</td>\n",
       "      <td>0.409221</td>\n",
       "      <td>...</td>\n",
       "      <td>40</td>\n",
       "      <td>15</td>\n",
       "      <td>1.298733</td>\n",
       "      <td>29.677761</td>\n",
       "      <td>g</td>\n",
       "      <td>DC22eokxf</td>\n",
       "      <td>59764.181328</td>\n",
       "      <td>[[-1.81473541e+01  1.88532562e+01  1.32248688e...</td>\n",
       "      <td>14328.349092</td>\n",
       "      <td>2529.737312</td>\n",
       "    </tr>\n",
       "    <tr>\n",
       "      <th>60</th>\n",
       "      <td>35</td>\n",
       "      <td>0</td>\n",
       "      <td>16.206051</td>\n",
       "      <td>15.076862</td>\n",
       "      <td>8617.985352</td>\n",
       "      <td>-0.143747</td>\n",
       "      <td>-0.086272</td>\n",
       "      <td>38.093769</td>\n",
       "      <td>0.375840</td>\n",
       "      <td>0.369374</td>\n",
       "      <td>...</td>\n",
       "      <td>36</td>\n",
       "      <td>15</td>\n",
       "      <td>1.212041</td>\n",
       "      <td>29.660837</td>\n",
       "      <td>g</td>\n",
       "      <td>DC22eokxf</td>\n",
       "      <td>59764.185229</td>\n",
       "      <td>[[-2.11292343e+01 -3.53083801e+00  2.20123825e...</td>\n",
       "      <td>15839.467086</td>\n",
       "      <td>2579.094069</td>\n",
       "    </tr>\n",
       "    <tr>\n",
       "      <th>61</th>\n",
       "      <td>34</td>\n",
       "      <td>0</td>\n",
       "      <td>16.201482</td>\n",
       "      <td>15.469207</td>\n",
       "      <td>9310.273438</td>\n",
       "      <td>-0.151873</td>\n",
       "      <td>-0.077176</td>\n",
       "      <td>43.184339</td>\n",
       "      <td>0.347596</td>\n",
       "      <td>0.336010</td>\n",
       "      <td>...</td>\n",
       "      <td>35</td>\n",
       "      <td>15</td>\n",
       "      <td>1.161323</td>\n",
       "      <td>29.673583</td>\n",
       "      <td>g</td>\n",
       "      <td>DC22eokxf</td>\n",
       "      <td>59764.188950</td>\n",
       "      <td>[[-4.78656082e+01  1.13489380e+01  2.46657410e...</td>\n",
       "      <td>17313.924568</td>\n",
       "      <td>2618.840464</td>\n",
       "    </tr>\n",
       "    <tr>\n",
       "      <th>62</th>\n",
       "      <td>8</td>\n",
       "      <td>0</td>\n",
       "      <td>16.596041</td>\n",
       "      <td>15.876938</td>\n",
       "      <td>10076.452148</td>\n",
       "      <td>-0.227803</td>\n",
       "      <td>-0.154276</td>\n",
       "      <td>65.403061</td>\n",
       "      <td>0.306021</td>\n",
       "      <td>0.296357</td>\n",
       "      <td>...</td>\n",
       "      <td>9</td>\n",
       "      <td>15</td>\n",
       "      <td>0.993399</td>\n",
       "      <td>29.608408</td>\n",
       "      <td>g</td>\n",
       "      <td>DC22eokxf</td>\n",
       "      <td>59812.048295</td>\n",
       "      <td>[[-4.53753357e+01 -2.71508255e+01  2.05693817e...</td>\n",
       "      <td>17646.994335</td>\n",
       "      <td>2437.538951</td>\n",
       "    </tr>\n",
       "  </tbody>\n",
       "</table>\n",
       "<p>63 rows × 43 columns</p>\n",
       "</div>"
      ],
      "text/plain": [
       "    level_0  index          x          y          flux     deltx     delty  \\\n",
       "0       284      0  16.702758  15.522884   7750.015137 -0.138246 -0.106884   \n",
       "1       269      0  15.866967  15.129282   8541.306641 -0.172963 -0.102182   \n",
       "2       279      0  16.698566  15.508478   9198.387695 -0.148958 -0.101992   \n",
       "3       282      0  16.899334  15.764242   7276.283691 -0.146977 -0.099910   \n",
       "4       281      0  16.636170  15.686310   8161.482910 -0.160474 -0.115821   \n",
       "..      ...    ...        ...        ...           ...       ...       ...   \n",
       "58       16      0  16.072450  15.065553   8711.168945 -0.171267 -0.118816   \n",
       "59       39      0  16.504157  15.997713   7675.234863 -0.138864 -0.096327   \n",
       "60       35      0  16.206051  15.076862   8617.985352 -0.143747 -0.086272   \n",
       "61       34      0  16.201482  15.469207   9310.273438 -0.151873 -0.077176   \n",
       "62        8      0  16.596041  15.876938  10076.452148 -0.227803 -0.154276   \n",
       "\n",
       "        chi2_        dx        dy  ...  fn_index   s    seeing      magzp  \\\n",
       "0   33.202772  0.407668  0.403148  ...       302  15  1.286780  29.643635   \n",
       "1   31.103775  0.377937  0.366677  ...       287  15  1.202713  29.639124   \n",
       "2   42.425596  0.351772  0.345523  ...       297  15  1.179602  29.637720   \n",
       "3   31.438759  0.443918  0.433962  ...       300  15  1.331029  29.642897   \n",
       "4   55.668492  0.408855  0.405966  ...       299  15  1.282140  29.642246   \n",
       "..        ...       ...       ...  ...       ...  ..       ...        ...   \n",
       "58  46.636224  0.368328  0.355780  ...        17  15  1.149289  29.664277   \n",
       "59  33.126981  0.407702  0.409221  ...        40  15  1.298733  29.677761   \n",
       "60  38.093769  0.375840  0.369374  ...        36  15  1.212041  29.660837   \n",
       "61  43.184339  0.347596  0.336010  ...        35  15  1.161323  29.673583   \n",
       "62  65.403061  0.306021  0.296357  ...         9  15  0.993399  29.608408   \n",
       "\n",
       "    band  candidate_id           MJD  \\\n",
       "0      g     DC22eokxf  59295.384410   \n",
       "1      g     DC22eokxf  59295.388149   \n",
       "2      g     DC22eokxf  59295.391910   \n",
       "3      g     DC22eokxf  59295.397104   \n",
       "4      g     DC22eokxf  59295.400819   \n",
       "..   ...           ...           ...   \n",
       "58     g     DC22eokxf  59739.303483   \n",
       "59     g     DC22eokxf  59764.181328   \n",
       "60     g     DC22eokxf  59764.185229   \n",
       "61     g     DC22eokxf  59764.188950   \n",
       "62     g     DC22eokxf  59812.048295   \n",
       "\n",
       "                                               resim_      normflux  \\\n",
       "0   [[-1.72849350e+01  1.91598282e+01 -1.39714050e...  14020.277478   \n",
       "1   [[-8.05695343e+00  2.54960785e+01 -3.21421814e...  15387.710278   \n",
       "2   [[-1.04088211e+01  1.11433411e+01 -4.35919952e...  16550.057765   \n",
       "3   [[-1.93878937e+00  9.48197937e+00  4.38304901e...  13154.322020   \n",
       "4   [[-1.44699402e+01  7.01345062e+00  6.84712982e...  14745.774394   \n",
       "..                                                ...           ...   \n",
       "58  [[-1.86451721e+00  1.08196106e+01 -7.00008392e...  16061.540950   \n",
       "59  [[-1.81473541e+01  1.88532562e+01  1.32248688e...  14328.349092   \n",
       "60  [[-2.11292343e+01 -3.53083801e+00  2.20123825e...  15839.467086   \n",
       "61  [[-4.78656082e+01  1.13489380e+01  2.46657410e...  17313.924568   \n",
       "62  [[-4.53753357e+01 -2.71508255e+01  2.05693817e...  17646.994335   \n",
       "\n",
       "      dnormflux  \n",
       "0   2462.368698  \n",
       "1   2511.331569  \n",
       "2   2534.345862  \n",
       "3   2461.625427  \n",
       "4   2577.560895  \n",
       "..          ...  \n",
       "58  2563.138885  \n",
       "59  2529.737312  \n",
       "60  2579.094069  \n",
       "61  2618.840464  \n",
       "62  2437.538951  \n",
       "\n",
       "[63 rows x 43 columns]"
      ]
     },
     "execution_count": 10,
     "metadata": {},
     "output_type": "execute_result"
    }
   ],
   "source": [
    "df"
   ]
  },
  {
   "cell_type": "code",
   "execution_count": 11,
   "id": "71a50e16-5e25-4a62-b81c-a1b45b100540",
   "metadata": {
    "tags": []
   },
   "outputs": [
    {
     "data": {
      "text/plain": [
       "<matplotlib.collections.PathCollection at 0x7fd12ee12af0>"
      ]
     },
     "execution_count": 11,
     "metadata": {},
     "output_type": "execute_result"
    },
    {
     "data": {
      "image/png": "[encoded data removed]",
      "text/plain": [
       "<Figure size 432x288 with 1 Axes>"
      ]
     },
     "metadata": {
      "needs_background": "light"
     },
     "output_type": "display_data"
    }
   ],
   "source": [
    "plt.scatter(df[\"MJD\"], df[\"normflux\"])"
   ]
  },
  {
   "cell_type": "code",
   "execution_count": null,
   "id": "248c12e8-4980-41b2-9af0-f2516afe64a1",
   "metadata": {},
   "outputs": [],
   "source": []
  },
  {
   "cell_type": "code",
   "execution_count": 14,
   "id": "a82fee80-9af0-41be-a5c1-381d9b9f1d13",
   "metadata": {
    "tags": []
   },
   "outputs": [],
   "source": [
    "def expmjd_model(mjd, flux, exp):\n",
    "    midind = np.where(np.sort(mjd - np.min(mjd))<((np.max(mjd) - np.min(mjd))/2))[0][-1]\n",
    "    t1 = np.sort(mjd - np.min(mjd))\n",
    "    f1 = np.zeros(len(mjd))\n",
    "    f1[:midind] = ((exp**(-1*t1[:midind])))\n",
    "    t1[:midind] = -1*(t1[:midind]) + max(t1[:midind])\n",
    "    f1[midind:] = exp**(-1*(t1[midind:] - np.min(t1[midind:])))\n",
    "    f1 = f1/min(f1)\n",
    "    return t1 + np.min(mjd), f1*flux\n",
    "\n",
    "def get_exp(mjd, maxamp):\n",
    "    midind = np.where(np.sort(mjd - np.min(mjd))<((np.max(mjd) - np.min(mjd))/2))[0][-1]\n",
    "    t1 = np.sort(mjd - np.min(mjd))\n",
    "    return np.exp(np.log(maxamp)/((-1*np.min(-1*(t1[midind:] - np.min(t1[midind:]))))))"
   ]
  },
  {
   "cell_type": "code",
   "execution_count": 15,
   "id": "6a8b632f-8888-4d3b-9a5f-3a5b580c124d",
   "metadata": {
    "tags": []
   },
   "outputs": [
    {
     "data": {
      "text/plain": [
       "<matplotlib.collections.PathCollection at 0x7fd12facea60>"
      ]
     },
     "execution_count": 15,
     "metadata": {},
     "output_type": "execute_result"
    },
    {
     "data": {
      "image/png": "[encoded data removed]",
      "text/plain": [
       "<Figure size 432x288 with 1 Axes>"
      ]
     },
     "metadata": {
      "needs_background": "light"
     },
     "output_type": "display_data"
    }
   ],
   "source": [
    "myt, myf = expmjd_model(df[\"MJD\"], df[\"flux\"], get_exp(df[\"MJD\"], 5))\n",
    "plt.scatter(myt, myf)"
   ]
  },
  {
   "cell_type": "code",
   "execution_count": 19,
   "id": "ec59c1b6-bf0a-4613-9b8a-c3761c3c0ace",
   "metadata": {
    "tags": []
   },
   "outputs": [],
   "source": [
    "def adjacency_matrix(numbins, f):\n",
    "    # numbins = 4\n",
    "    numbins = numbins + 1\n",
    "    bins = np.linspace(min(f), max(f)+0.001, numbins)\n",
    "    am = np.zeros((numbins, numbins))\n",
    "    distm = np.zeros((numbins, numbins))\n",
    "    countm = np.zeros((numbins, numbins))\n",
    "    for counti, i in enumerate(f[:]):\n",
    "        ibin = np.where(bins>i)[0][0]\n",
    "        for countj, j in enumerate(f[counti:]):\n",
    "            if counti==countj:\n",
    "                continue\n",
    "            jbin = np.where(bins>j)[0][0]\n",
    "            countm[ibin-1, jbin-1] += 1\n",
    "            distm[ibin-1, jbin-1] += abs(x[counti] - x[countj])\n",
    "            am[ibin-1, jbin-1] += 1/abs(x[counti] - x[countj])\n",
    "\n",
    "    return countm[:-1,:-1], distm[:-1,:-1], am[:-1,:-1]"
   ]
  },
  {
   "cell_type": "code",
   "execution_count": 23,
   "id": "c232d538-6fd9-40c7-b382-a23c2d3ad4e5",
   "metadata": {
    "tags": []
   },
   "outputs": [
    {
     "data": {
      "text/plain": [
       "<matplotlib.colorbar.Colorbar at 0x7fd12ed7da90>"
      ]
     },
     "execution_count": 23,
     "metadata": {},
     "output_type": "execute_result"
    },
    {
     "data": {
      "image/png": "[encoded data removed]",
      "text/plain": [
       "<Figure size 432x288 with 2 Axes>"
      ]
     },
     "metadata": {
      "needs_background": "light"
     },
     "output_type": "display_data"
    }
   ],
   "source": [
    "_, _, am = adjacency_matrix(4, myf)\n",
    "plt.imshow(am)\n",
    "plt.colorbar()"
   ]
  },
  {
   "cell_type": "code",
   "execution_count": null,
   "id": "5b58088b-f4f4-4cd9-84db-35bd3e11f22b",
   "metadata": {},
   "outputs": [],
   "source": []
  }
 ],
 "metadata": {
  "kernelspec": {
   "display_name": "NERSC Python",
   "language": "python",
   "name": "python3"
  },
  "language_info": {
   "codemirror_mode": {
    "name": "ipython",
    "version": 3
   },
   "file_extension": ".py",
   "mimetype": "text/x-python",
   "name": "python",
   "nbconvert_exporter": "python",
   "pygments_lexer": "ipython3",
   "version": "3.9.7"
  }
 },
 "nbformat": 4,
 "nbformat_minor": 5
}
