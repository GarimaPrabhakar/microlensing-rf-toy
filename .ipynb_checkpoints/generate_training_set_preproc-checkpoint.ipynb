{
 "cells": [
  {
   "cell_type": "code",
   "execution_count": 2,
   "id": "1e10e2e3-ee85-4721-bf40-1d3373c99532",
   "metadata": {
    "tags": []
   },
   "outputs": [],
   "source": [
    "import os"
   ]
  },
  {
   "cell_type": "code",
   "execution_count": 7,
   "id": "2c91c6ea-7dae-4567-910f-9b60f2475280",
   "metadata": {
    "tags": []
   },
   "outputs": [],
   "source": [
    "numbins = 7\n",
    "datas = os.listdir(\"../Crowdsourcecopy/crowdsource/crowdsource/csdata/data1\")\n",
    "# dir_data = \"../Crowdsource copy/crowdsource/crowdsource/csdata/data1/\""
   ]
  },
  {
   "cell_type": "code",
   "execution_count": 8,
   "id": "fcfc61b6-33f9-495d-8bec-d343e9348ead",
   "metadata": {
    "tags": []
   },
   "outputs": [
    {
     "data": {
      "text/plain": [
       "('DC22eokxf_crowdsource_rs.csv', 2060)"
      ]
     },
     "execution_count": 8,
     "metadata": {},
     "output_type": "execute_result"
    }
   ],
   "source": [
    "datas[0], len(datas)"
   ]
  },
  {
   "cell_type": "code",
   "execution_count": 9,
   "id": "24f3cf0b-27cf-4516-8f27-86b9e7acfb93",
   "metadata": {
    "tags": []
   },
   "outputs": [],
   "source": [
    "with open('myrun.txt', 'a') as f:\n",
    "    for i in range(len(datas)):\n",
    "        for j in range(2):\n",
    "            # dir_data = \"../Crowdsourcecopy/crowdsource/crowdsource/csdata/data/\" + datas[i]\n",
    "            # f.write(f'\"/pscratch/sd/g/garimap/microlensingToy/wrapper.sh\" {dir_data} {numbins}')\n",
    "            # f.write('\\n')\n",
    "            \n",
    "            dir_data = \"../Crowdsourcecopy/crowdsource/crowdsource/csdata/data1/\" + datas[i]\n",
    "            f.write(f'echo \"python generate_training_set.py {dir_data} {numbins}\"')\n",
    "            f.write('\\n')\n",
    "            f.write(f'python generate_training_set.py {dir_data} {numbins}')\n",
    "            f.write('\\n')"
   ]
  },
  {
   "cell_type": "code",
   "execution_count": 10,
   "id": "3d7d7333-a402-405b-8955-08f9415539d3",
   "metadata": {
    "tags": []
   },
   "outputs": [
    {
     "name": "stdout",
     "output_type": "stream",
     "text": [
      "Total Lines 116520\n"
     ]
    }
   ],
   "source": [
    "with open(r\"myrun.txt\", 'r') as fp:\n",
    "    for count, line in enumerate(fp):\n",
    "        # if \"DC22eokrc_crowdsource_rs.csv\" in line:\n",
    "        #     print(count, line)\n",
    "        pass\n",
    "print('Total Lines', count + 1)"
   ]
  },
  {
   "cell_type": "code",
   "execution_count": 28,
   "id": "6fa06877-0430-46fe-9481-d8b88a5b253e",
   "metadata": {
    "tags": []
   },
   "outputs": [
    {
     "data": {
      "text/plain": [
       "58260.0"
      ]
     },
     "execution_count": 28,
     "metadata": {},
     "output_type": "execute_result"
    }
   ],
   "source": [
    "(count+1)/100"
   ]
  },
  {
   "cell_type": "code",
   "execution_count": 32,
   "id": "c1932c02-cc42-4b5b-8e5a-149dec665d2b",
   "metadata": {},
   "outputs": [],
   "source": [
    "import numpy as np\n",
    "matrix = np.array([1, 2, 3])"
   ]
  },
  {
   "cell_type": "code",
   "execution_count": 33,
   "id": "fd86a8ce-951d-4b53-984d-0130bd5ef1ec",
   "metadata": {},
   "outputs": [],
   "source": [
    "with open(f'trainingset/microlensing3.csv','a') as csvfile:\n",
    "     np.savetxt(csvfile,np.reshape(np.array(matrix), (len(matrix), 1)).T,delimiter=',', fmt='%s')"
   ]
  },
  {
   "cell_type": "code",
   "execution_count": null,
   "id": "95785144-ce2a-4897-ae2f-9a4ab2ed6b9a",
   "metadata": {},
   "outputs": [],
   "source": []
  }
 ],
 "metadata": {
  "kernelspec": {
   "display_name": "py38",
   "language": "python",
   "name": "py38"
  },
  "language_info": {
   "codemirror_mode": {
    "name": "ipython",
    "version": 3
   },
   "file_extension": ".py",
   "mimetype": "text/x-python",
   "name": "python",
   "nbconvert_exporter": "python",
   "pygments_lexer": "ipython3",
   "version": "3.8.13"
  }
 },
 "nbformat": 4,
 "nbformat_minor": 5
}
